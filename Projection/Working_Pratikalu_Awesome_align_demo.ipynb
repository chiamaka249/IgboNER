{
  "nbformat": 4,
  "nbformat_minor": 0,
  "metadata": {
    "colab": {
      "name": "Working Pratikalu_Awesome_align_demo.ipynb",
      "provenance": [],
      "collapsed_sections": [],
      "include_colab_link": true
    },
    "kernelspec": {
      "name": "python3",
      "display_name": "Python 3"
    },
    "widgets": {
      "application/vnd.jupyter.widget-state+json": {
        "efc8d7b3ca1943efbd2345838bd9bfe0": {
          "model_module": "@jupyter-widgets/controls",
          "model_name": "HBoxModel",
          "model_module_version": "1.5.0",
          "state": {
            "_view_name": "HBoxView",
            "_dom_classes": [],
            "_model_name": "HBoxModel",
            "_view_module": "@jupyter-widgets/controls",
            "_model_module_version": "1.5.0",
            "_view_count": null,
            "_view_module_version": "1.5.0",
            "box_style": "",
            "layout": "IPY_MODEL_2a0f453a6d2f491a9b9722e15769bad8",
            "_model_module": "@jupyter-widgets/controls",
            "children": [
              "IPY_MODEL_4b26f46a31c344b7abf3ba8b961b9bf1",
              "IPY_MODEL_cc1c24f4d87e4de6a811710639461230",
              "IPY_MODEL_a843de4d43b54aada2df9da5537919b9"
            ]
          }
        },
        "2a0f453a6d2f491a9b9722e15769bad8": {
          "model_module": "@jupyter-widgets/base",
          "model_name": "LayoutModel",
          "model_module_version": "1.2.0",
          "state": {
            "_view_name": "LayoutView",
            "grid_template_rows": null,
            "right": null,
            "justify_content": null,
            "_view_module": "@jupyter-widgets/base",
            "overflow": null,
            "_model_module_version": "1.2.0",
            "_view_count": null,
            "flex_flow": null,
            "width": null,
            "min_width": null,
            "border": null,
            "align_items": null,
            "bottom": null,
            "_model_module": "@jupyter-widgets/base",
            "top": null,
            "grid_column": null,
            "overflow_y": null,
            "overflow_x": null,
            "grid_auto_flow": null,
            "grid_area": null,
            "grid_template_columns": null,
            "flex": null,
            "_model_name": "LayoutModel",
            "justify_items": null,
            "grid_row": null,
            "max_height": null,
            "align_content": null,
            "visibility": null,
            "align_self": null,
            "height": null,
            "min_height": null,
            "padding": null,
            "grid_auto_rows": null,
            "grid_gap": null,
            "max_width": null,
            "order": null,
            "_view_module_version": "1.2.0",
            "grid_template_areas": null,
            "object_position": null,
            "object_fit": null,
            "grid_auto_columns": null,
            "margin": null,
            "display": null,
            "left": null
          }
        },
        "4b26f46a31c344b7abf3ba8b961b9bf1": {
          "model_module": "@jupyter-widgets/controls",
          "model_name": "HTMLModel",
          "model_module_version": "1.5.0",
          "state": {
            "_view_name": "HTMLView",
            "style": "IPY_MODEL_66b195421a404948a20d1ef42b0a10d2",
            "_dom_classes": [],
            "description": "",
            "_model_name": "HTMLModel",
            "placeholder": "​",
            "_view_module": "@jupyter-widgets/controls",
            "_model_module_version": "1.5.0",
            "value": "Downloading: 100%",
            "_view_count": null,
            "_view_module_version": "1.5.0",
            "description_tooltip": null,
            "_model_module": "@jupyter-widgets/controls",
            "layout": "IPY_MODEL_a163cb4276d94038940cf617250bc471"
          }
        },
        "cc1c24f4d87e4de6a811710639461230": {
          "model_module": "@jupyter-widgets/controls",
          "model_name": "FloatProgressModel",
          "model_module_version": "1.5.0",
          "state": {
            "_view_name": "ProgressView",
            "style": "IPY_MODEL_5096c13f4d0a4436ad326699c0c3a31f",
            "_dom_classes": [],
            "description": "",
            "_model_name": "FloatProgressModel",
            "bar_style": "success",
            "max": 625,
            "_view_module": "@jupyter-widgets/controls",
            "_model_module_version": "1.5.0",
            "value": 625,
            "_view_count": null,
            "_view_module_version": "1.5.0",
            "orientation": "horizontal",
            "min": 0,
            "description_tooltip": null,
            "_model_module": "@jupyter-widgets/controls",
            "layout": "IPY_MODEL_228a4c752d504fa7af74d416056197cc"
          }
        },
        "a843de4d43b54aada2df9da5537919b9": {
          "model_module": "@jupyter-widgets/controls",
          "model_name": "HTMLModel",
          "model_module_version": "1.5.0",
          "state": {
            "_view_name": "HTMLView",
            "style": "IPY_MODEL_15b5f33324754c6d90688a16f73f3a02",
            "_dom_classes": [],
            "description": "",
            "_model_name": "HTMLModel",
            "placeholder": "​",
            "_view_module": "@jupyter-widgets/controls",
            "_model_module_version": "1.5.0",
            "value": " 625/625 [00:00&lt;00:00, 12.0kB/s]",
            "_view_count": null,
            "_view_module_version": "1.5.0",
            "description_tooltip": null,
            "_model_module": "@jupyter-widgets/controls",
            "layout": "IPY_MODEL_f2ca4466cff24e3ba85714f0b9dd0bd1"
          }
        },
        "66b195421a404948a20d1ef42b0a10d2": {
          "model_module": "@jupyter-widgets/controls",
          "model_name": "DescriptionStyleModel",
          "model_module_version": "1.5.0",
          "state": {
            "_view_name": "StyleView",
            "_model_name": "DescriptionStyleModel",
            "description_width": "",
            "_view_module": "@jupyter-widgets/base",
            "_model_module_version": "1.5.0",
            "_view_count": null,
            "_view_module_version": "1.2.0",
            "_model_module": "@jupyter-widgets/controls"
          }
        },
        "a163cb4276d94038940cf617250bc471": {
          "model_module": "@jupyter-widgets/base",
          "model_name": "LayoutModel",
          "model_module_version": "1.2.0",
          "state": {
            "_view_name": "LayoutView",
            "grid_template_rows": null,
            "right": null,
            "justify_content": null,
            "_view_module": "@jupyter-widgets/base",
            "overflow": null,
            "_model_module_version": "1.2.0",
            "_view_count": null,
            "flex_flow": null,
            "width": null,
            "min_width": null,
            "border": null,
            "align_items": null,
            "bottom": null,
            "_model_module": "@jupyter-widgets/base",
            "top": null,
            "grid_column": null,
            "overflow_y": null,
            "overflow_x": null,
            "grid_auto_flow": null,
            "grid_area": null,
            "grid_template_columns": null,
            "flex": null,
            "_model_name": "LayoutModel",
            "justify_items": null,
            "grid_row": null,
            "max_height": null,
            "align_content": null,
            "visibility": null,
            "align_self": null,
            "height": null,
            "min_height": null,
            "padding": null,
            "grid_auto_rows": null,
            "grid_gap": null,
            "max_width": null,
            "order": null,
            "_view_module_version": "1.2.0",
            "grid_template_areas": null,
            "object_position": null,
            "object_fit": null,
            "grid_auto_columns": null,
            "margin": null,
            "display": null,
            "left": null
          }
        },
        "5096c13f4d0a4436ad326699c0c3a31f": {
          "model_module": "@jupyter-widgets/controls",
          "model_name": "ProgressStyleModel",
          "model_module_version": "1.5.0",
          "state": {
            "_view_name": "StyleView",
            "_model_name": "ProgressStyleModel",
            "description_width": "",
            "_view_module": "@jupyter-widgets/base",
            "_model_module_version": "1.5.0",
            "_view_count": null,
            "_view_module_version": "1.2.0",
            "bar_color": null,
            "_model_module": "@jupyter-widgets/controls"
          }
        },
        "228a4c752d504fa7af74d416056197cc": {
          "model_module": "@jupyter-widgets/base",
          "model_name": "LayoutModel",
          "model_module_version": "1.2.0",
          "state": {
            "_view_name": "LayoutView",
            "grid_template_rows": null,
            "right": null,
            "justify_content": null,
            "_view_module": "@jupyter-widgets/base",
            "overflow": null,
            "_model_module_version": "1.2.0",
            "_view_count": null,
            "flex_flow": null,
            "width": null,
            "min_width": null,
            "border": null,
            "align_items": null,
            "bottom": null,
            "_model_module": "@jupyter-widgets/base",
            "top": null,
            "grid_column": null,
            "overflow_y": null,
            "overflow_x": null,
            "grid_auto_flow": null,
            "grid_area": null,
            "grid_template_columns": null,
            "flex": null,
            "_model_name": "LayoutModel",
            "justify_items": null,
            "grid_row": null,
            "max_height": null,
            "align_content": null,
            "visibility": null,
            "align_self": null,
            "height": null,
            "min_height": null,
            "padding": null,
            "grid_auto_rows": null,
            "grid_gap": null,
            "max_width": null,
            "order": null,
            "_view_module_version": "1.2.0",
            "grid_template_areas": null,
            "object_position": null,
            "object_fit": null,
            "grid_auto_columns": null,
            "margin": null,
            "display": null,
            "left": null
          }
        },
        "15b5f33324754c6d90688a16f73f3a02": {
          "model_module": "@jupyter-widgets/controls",
          "model_name": "DescriptionStyleModel",
          "model_module_version": "1.5.0",
          "state": {
            "_view_name": "StyleView",
            "_model_name": "DescriptionStyleModel",
            "description_width": "",
            "_view_module": "@jupyter-widgets/base",
            "_model_module_version": "1.5.0",
            "_view_count": null,
            "_view_module_version": "1.2.0",
            "_model_module": "@jupyter-widgets/controls"
          }
        },
        "f2ca4466cff24e3ba85714f0b9dd0bd1": {
          "model_module": "@jupyter-widgets/base",
          "model_name": "LayoutModel",
          "model_module_version": "1.2.0",
          "state": {
            "_view_name": "LayoutView",
            "grid_template_rows": null,
            "right": null,
            "justify_content": null,
            "_view_module": "@jupyter-widgets/base",
            "overflow": null,
            "_model_module_version": "1.2.0",
            "_view_count": null,
            "flex_flow": null,
            "width": null,
            "min_width": null,
            "border": null,
            "align_items": null,
            "bottom": null,
            "_model_module": "@jupyter-widgets/base",
            "top": null,
            "grid_column": null,
            "overflow_y": null,
            "overflow_x": null,
            "grid_auto_flow": null,
            "grid_area": null,
            "grid_template_columns": null,
            "flex": null,
            "_model_name": "LayoutModel",
            "justify_items": null,
            "grid_row": null,
            "max_height": null,
            "align_content": null,
            "visibility": null,
            "align_self": null,
            "height": null,
            "min_height": null,
            "padding": null,
            "grid_auto_rows": null,
            "grid_gap": null,
            "max_width": null,
            "order": null,
            "_view_module_version": "1.2.0",
            "grid_template_areas": null,
            "object_position": null,
            "object_fit": null,
            "grid_auto_columns": null,
            "margin": null,
            "display": null,
            "left": null
          }
        },
        "a3a7113020bc42729b2d64c5e4cf441e": {
          "model_module": "@jupyter-widgets/controls",
          "model_name": "HBoxModel",
          "model_module_version": "1.5.0",
          "state": {
            "_view_name": "HBoxView",
            "_dom_classes": [],
            "_model_name": "HBoxModel",
            "_view_module": "@jupyter-widgets/controls",
            "_model_module_version": "1.5.0",
            "_view_count": null,
            "_view_module_version": "1.5.0",
            "box_style": "",
            "layout": "IPY_MODEL_2a0c7bad49fb44ecb51ee6b37fc80976",
            "_model_module": "@jupyter-widgets/controls",
            "children": [
              "IPY_MODEL_840b2b57deb146659bd190018b964373",
              "IPY_MODEL_041b3f0e25204403b7195ac3be4cc238",
              "IPY_MODEL_485a37b2893a4cd5b9f21af1d0bfb223"
            ]
          }
        },
        "2a0c7bad49fb44ecb51ee6b37fc80976": {
          "model_module": "@jupyter-widgets/base",
          "model_name": "LayoutModel",
          "model_module_version": "1.2.0",
          "state": {
            "_view_name": "LayoutView",
            "grid_template_rows": null,
            "right": null,
            "justify_content": null,
            "_view_module": "@jupyter-widgets/base",
            "overflow": null,
            "_model_module_version": "1.2.0",
            "_view_count": null,
            "flex_flow": null,
            "width": null,
            "min_width": null,
            "border": null,
            "align_items": null,
            "bottom": null,
            "_model_module": "@jupyter-widgets/base",
            "top": null,
            "grid_column": null,
            "overflow_y": null,
            "overflow_x": null,
            "grid_auto_flow": null,
            "grid_area": null,
            "grid_template_columns": null,
            "flex": null,
            "_model_name": "LayoutModel",
            "justify_items": null,
            "grid_row": null,
            "max_height": null,
            "align_content": null,
            "visibility": null,
            "align_self": null,
            "height": null,
            "min_height": null,
            "padding": null,
            "grid_auto_rows": null,
            "grid_gap": null,
            "max_width": null,
            "order": null,
            "_view_module_version": "1.2.0",
            "grid_template_areas": null,
            "object_position": null,
            "object_fit": null,
            "grid_auto_columns": null,
            "margin": null,
            "display": null,
            "left": null
          }
        },
        "840b2b57deb146659bd190018b964373": {
          "model_module": "@jupyter-widgets/controls",
          "model_name": "HTMLModel",
          "model_module_version": "1.5.0",
          "state": {
            "_view_name": "HTMLView",
            "style": "IPY_MODEL_4290ed67b39348af85f34375e1cd1d20",
            "_dom_classes": [],
            "description": "",
            "_model_name": "HTMLModel",
            "placeholder": "​",
            "_view_module": "@jupyter-widgets/controls",
            "_model_module_version": "1.5.0",
            "value": "Downloading: 100%",
            "_view_count": null,
            "_view_module_version": "1.5.0",
            "description_tooltip": null,
            "_model_module": "@jupyter-widgets/controls",
            "layout": "IPY_MODEL_d762dc6dc60a4cf6b03c65431511e07e"
          }
        },
        "041b3f0e25204403b7195ac3be4cc238": {
          "model_module": "@jupyter-widgets/controls",
          "model_name": "FloatProgressModel",
          "model_module_version": "1.5.0",
          "state": {
            "_view_name": "ProgressView",
            "style": "IPY_MODEL_1cebc2c8a4114b2eb79163e6994c4c1d",
            "_dom_classes": [],
            "description": "",
            "_model_name": "FloatProgressModel",
            "bar_style": "success",
            "max": 714314041,
            "_view_module": "@jupyter-widgets/controls",
            "_model_module_version": "1.5.0",
            "value": 714314041,
            "_view_count": null,
            "_view_module_version": "1.5.0",
            "orientation": "horizontal",
            "min": 0,
            "description_tooltip": null,
            "_model_module": "@jupyter-widgets/controls",
            "layout": "IPY_MODEL_97cbf325bb234ced9fa5e5d518c90055"
          }
        },
        "485a37b2893a4cd5b9f21af1d0bfb223": {
          "model_module": "@jupyter-widgets/controls",
          "model_name": "HTMLModel",
          "model_module_version": "1.5.0",
          "state": {
            "_view_name": "HTMLView",
            "style": "IPY_MODEL_226210d36f3d4db69edec77eb2c66531",
            "_dom_classes": [],
            "description": "",
            "_model_name": "HTMLModel",
            "placeholder": "​",
            "_view_module": "@jupyter-widgets/controls",
            "_model_module_version": "1.5.0",
            "value": " 714M/714M [00:19&lt;00:00, 47.5MB/s]",
            "_view_count": null,
            "_view_module_version": "1.5.0",
            "description_tooltip": null,
            "_model_module": "@jupyter-widgets/controls",
            "layout": "IPY_MODEL_7718cc84016046d4839f58bd9d424c80"
          }
        },
        "4290ed67b39348af85f34375e1cd1d20": {
          "model_module": "@jupyter-widgets/controls",
          "model_name": "DescriptionStyleModel",
          "model_module_version": "1.5.0",
          "state": {
            "_view_name": "StyleView",
            "_model_name": "DescriptionStyleModel",
            "description_width": "",
            "_view_module": "@jupyter-widgets/base",
            "_model_module_version": "1.5.0",
            "_view_count": null,
            "_view_module_version": "1.2.0",
            "_model_module": "@jupyter-widgets/controls"
          }
        },
        "d762dc6dc60a4cf6b03c65431511e07e": {
          "model_module": "@jupyter-widgets/base",
          "model_name": "LayoutModel",
          "model_module_version": "1.2.0",
          "state": {
            "_view_name": "LayoutView",
            "grid_template_rows": null,
            "right": null,
            "justify_content": null,
            "_view_module": "@jupyter-widgets/base",
            "overflow": null,
            "_model_module_version": "1.2.0",
            "_view_count": null,
            "flex_flow": null,
            "width": null,
            "min_width": null,
            "border": null,
            "align_items": null,
            "bottom": null,
            "_model_module": "@jupyter-widgets/base",
            "top": null,
            "grid_column": null,
            "overflow_y": null,
            "overflow_x": null,
            "grid_auto_flow": null,
            "grid_area": null,
            "grid_template_columns": null,
            "flex": null,
            "_model_name": "LayoutModel",
            "justify_items": null,
            "grid_row": null,
            "max_height": null,
            "align_content": null,
            "visibility": null,
            "align_self": null,
            "height": null,
            "min_height": null,
            "padding": null,
            "grid_auto_rows": null,
            "grid_gap": null,
            "max_width": null,
            "order": null,
            "_view_module_version": "1.2.0",
            "grid_template_areas": null,
            "object_position": null,
            "object_fit": null,
            "grid_auto_columns": null,
            "margin": null,
            "display": null,
            "left": null
          }
        },
        "1cebc2c8a4114b2eb79163e6994c4c1d": {
          "model_module": "@jupyter-widgets/controls",
          "model_name": "ProgressStyleModel",
          "model_module_version": "1.5.0",
          "state": {
            "_view_name": "StyleView",
            "_model_name": "ProgressStyleModel",
            "description_width": "",
            "_view_module": "@jupyter-widgets/base",
            "_model_module_version": "1.5.0",
            "_view_count": null,
            "_view_module_version": "1.2.0",
            "bar_color": null,
            "_model_module": "@jupyter-widgets/controls"
          }
        },
        "97cbf325bb234ced9fa5e5d518c90055": {
          "model_module": "@jupyter-widgets/base",
          "model_name": "LayoutModel",
          "model_module_version": "1.2.0",
          "state": {
            "_view_name": "LayoutView",
            "grid_template_rows": null,
            "right": null,
            "justify_content": null,
            "_view_module": "@jupyter-widgets/base",
            "overflow": null,
            "_model_module_version": "1.2.0",
            "_view_count": null,
            "flex_flow": null,
            "width": null,
            "min_width": null,
            "border": null,
            "align_items": null,
            "bottom": null,
            "_model_module": "@jupyter-widgets/base",
            "top": null,
            "grid_column": null,
            "overflow_y": null,
            "overflow_x": null,
            "grid_auto_flow": null,
            "grid_area": null,
            "grid_template_columns": null,
            "flex": null,
            "_model_name": "LayoutModel",
            "justify_items": null,
            "grid_row": null,
            "max_height": null,
            "align_content": null,
            "visibility": null,
            "align_self": null,
            "height": null,
            "min_height": null,
            "padding": null,
            "grid_auto_rows": null,
            "grid_gap": null,
            "max_width": null,
            "order": null,
            "_view_module_version": "1.2.0",
            "grid_template_areas": null,
            "object_position": null,
            "object_fit": null,
            "grid_auto_columns": null,
            "margin": null,
            "display": null,
            "left": null
          }
        },
        "226210d36f3d4db69edec77eb2c66531": {
          "model_module": "@jupyter-widgets/controls",
          "model_name": "DescriptionStyleModel",
          "model_module_version": "1.5.0",
          "state": {
            "_view_name": "StyleView",
            "_model_name": "DescriptionStyleModel",
            "description_width": "",
            "_view_module": "@jupyter-widgets/base",
            "_model_module_version": "1.5.0",
            "_view_count": null,
            "_view_module_version": "1.2.0",
            "_model_module": "@jupyter-widgets/controls"
          }
        },
        "7718cc84016046d4839f58bd9d424c80": {
          "model_module": "@jupyter-widgets/base",
          "model_name": "LayoutModel",
          "model_module_version": "1.2.0",
          "state": {
            "_view_name": "LayoutView",
            "grid_template_rows": null,
            "right": null,
            "justify_content": null,
            "_view_module": "@jupyter-widgets/base",
            "overflow": null,
            "_model_module_version": "1.2.0",
            "_view_count": null,
            "flex_flow": null,
            "width": null,
            "min_width": null,
            "border": null,
            "align_items": null,
            "bottom": null,
            "_model_module": "@jupyter-widgets/base",
            "top": null,
            "grid_column": null,
            "overflow_y": null,
            "overflow_x": null,
            "grid_auto_flow": null,
            "grid_area": null,
            "grid_template_columns": null,
            "flex": null,
            "_model_name": "LayoutModel",
            "justify_items": null,
            "grid_row": null,
            "max_height": null,
            "align_content": null,
            "visibility": null,
            "align_self": null,
            "height": null,
            "min_height": null,
            "padding": null,
            "grid_auto_rows": null,
            "grid_gap": null,
            "max_width": null,
            "order": null,
            "_view_module_version": "1.2.0",
            "grid_template_areas": null,
            "object_position": null,
            "object_fit": null,
            "grid_auto_columns": null,
            "margin": null,
            "display": null,
            "left": null
          }
        },
        "79e992a8b538449db3c5288516d41015": {
          "model_module": "@jupyter-widgets/controls",
          "model_name": "HBoxModel",
          "model_module_version": "1.5.0",
          "state": {
            "_view_name": "HBoxView",
            "_dom_classes": [],
            "_model_name": "HBoxModel",
            "_view_module": "@jupyter-widgets/controls",
            "_model_module_version": "1.5.0",
            "_view_count": null,
            "_view_module_version": "1.5.0",
            "box_style": "",
            "layout": "IPY_MODEL_8c51f351c44d420dae5ec7ce008c7682",
            "_model_module": "@jupyter-widgets/controls",
            "children": [
              "IPY_MODEL_0cfd8ae6cb0141af982bc918cd5cc702",
              "IPY_MODEL_232488e43f8d468d993bd77ffa6c570c",
              "IPY_MODEL_243f79a37e974fec86c11aff09f34358"
            ]
          }
        },
        "8c51f351c44d420dae5ec7ce008c7682": {
          "model_module": "@jupyter-widgets/base",
          "model_name": "LayoutModel",
          "model_module_version": "1.2.0",
          "state": {
            "_view_name": "LayoutView",
            "grid_template_rows": null,
            "right": null,
            "justify_content": null,
            "_view_module": "@jupyter-widgets/base",
            "overflow": null,
            "_model_module_version": "1.2.0",
            "_view_count": null,
            "flex_flow": null,
            "width": null,
            "min_width": null,
            "border": null,
            "align_items": null,
            "bottom": null,
            "_model_module": "@jupyter-widgets/base",
            "top": null,
            "grid_column": null,
            "overflow_y": null,
            "overflow_x": null,
            "grid_auto_flow": null,
            "grid_area": null,
            "grid_template_columns": null,
            "flex": null,
            "_model_name": "LayoutModel",
            "justify_items": null,
            "grid_row": null,
            "max_height": null,
            "align_content": null,
            "visibility": null,
            "align_self": null,
            "height": null,
            "min_height": null,
            "padding": null,
            "grid_auto_rows": null,
            "grid_gap": null,
            "max_width": null,
            "order": null,
            "_view_module_version": "1.2.0",
            "grid_template_areas": null,
            "object_position": null,
            "object_fit": null,
            "grid_auto_columns": null,
            "margin": null,
            "display": null,
            "left": null
          }
        },
        "0cfd8ae6cb0141af982bc918cd5cc702": {
          "model_module": "@jupyter-widgets/controls",
          "model_name": "HTMLModel",
          "model_module_version": "1.5.0",
          "state": {
            "_view_name": "HTMLView",
            "style": "IPY_MODEL_d3d64a91b8f24e92842eea48b0744c0f",
            "_dom_classes": [],
            "description": "",
            "_model_name": "HTMLModel",
            "placeholder": "​",
            "_view_module": "@jupyter-widgets/controls",
            "_model_module_version": "1.5.0",
            "value": "Downloading: 100%",
            "_view_count": null,
            "_view_module_version": "1.5.0",
            "description_tooltip": null,
            "_model_module": "@jupyter-widgets/controls",
            "layout": "IPY_MODEL_5270af50265c4ab29378c1635b18dc01"
          }
        },
        "232488e43f8d468d993bd77ffa6c570c": {
          "model_module": "@jupyter-widgets/controls",
          "model_name": "FloatProgressModel",
          "model_module_version": "1.5.0",
          "state": {
            "_view_name": "ProgressView",
            "style": "IPY_MODEL_6d4474e3d9dd491189882a9b359d43be",
            "_dom_classes": [],
            "description": "",
            "_model_name": "FloatProgressModel",
            "bar_style": "success",
            "max": 995526,
            "_view_module": "@jupyter-widgets/controls",
            "_model_module_version": "1.5.0",
            "value": 995526,
            "_view_count": null,
            "_view_module_version": "1.5.0",
            "orientation": "horizontal",
            "min": 0,
            "description_tooltip": null,
            "_model_module": "@jupyter-widgets/controls",
            "layout": "IPY_MODEL_e7678004845145f1aa7258210949fb26"
          }
        },
        "243f79a37e974fec86c11aff09f34358": {
          "model_module": "@jupyter-widgets/controls",
          "model_name": "HTMLModel",
          "model_module_version": "1.5.0",
          "state": {
            "_view_name": "HTMLView",
            "style": "IPY_MODEL_af8ae537fef343b288dc2ee69ea00c24",
            "_dom_classes": [],
            "description": "",
            "_model_name": "HTMLModel",
            "placeholder": "​",
            "_view_module": "@jupyter-widgets/controls",
            "_model_module_version": "1.5.0",
            "value": " 996k/996k [00:00&lt;00:00, 793kB/s]",
            "_view_count": null,
            "_view_module_version": "1.5.0",
            "description_tooltip": null,
            "_model_module": "@jupyter-widgets/controls",
            "layout": "IPY_MODEL_1be07765525848caa25635e89d53cddd"
          }
        },
        "d3d64a91b8f24e92842eea48b0744c0f": {
          "model_module": "@jupyter-widgets/controls",
          "model_name": "DescriptionStyleModel",
          "model_module_version": "1.5.0",
          "state": {
            "_view_name": "StyleView",
            "_model_name": "DescriptionStyleModel",
            "description_width": "",
            "_view_module": "@jupyter-widgets/base",
            "_model_module_version": "1.5.0",
            "_view_count": null,
            "_view_module_version": "1.2.0",
            "_model_module": "@jupyter-widgets/controls"
          }
        },
        "5270af50265c4ab29378c1635b18dc01": {
          "model_module": "@jupyter-widgets/base",
          "model_name": "LayoutModel",
          "model_module_version": "1.2.0",
          "state": {
            "_view_name": "LayoutView",
            "grid_template_rows": null,
            "right": null,
            "justify_content": null,
            "_view_module": "@jupyter-widgets/base",
            "overflow": null,
            "_model_module_version": "1.2.0",
            "_view_count": null,
            "flex_flow": null,
            "width": null,
            "min_width": null,
            "border": null,
            "align_items": null,
            "bottom": null,
            "_model_module": "@jupyter-widgets/base",
            "top": null,
            "grid_column": null,
            "overflow_y": null,
            "overflow_x": null,
            "grid_auto_flow": null,
            "grid_area": null,
            "grid_template_columns": null,
            "flex": null,
            "_model_name": "LayoutModel",
            "justify_items": null,
            "grid_row": null,
            "max_height": null,
            "align_content": null,
            "visibility": null,
            "align_self": null,
            "height": null,
            "min_height": null,
            "padding": null,
            "grid_auto_rows": null,
            "grid_gap": null,
            "max_width": null,
            "order": null,
            "_view_module_version": "1.2.0",
            "grid_template_areas": null,
            "object_position": null,
            "object_fit": null,
            "grid_auto_columns": null,
            "margin": null,
            "display": null,
            "left": null
          }
        },
        "6d4474e3d9dd491189882a9b359d43be": {
          "model_module": "@jupyter-widgets/controls",
          "model_name": "ProgressStyleModel",
          "model_module_version": "1.5.0",
          "state": {
            "_view_name": "StyleView",
            "_model_name": "ProgressStyleModel",
            "description_width": "",
            "_view_module": "@jupyter-widgets/base",
            "_model_module_version": "1.5.0",
            "_view_count": null,
            "_view_module_version": "1.2.0",
            "bar_color": null,
            "_model_module": "@jupyter-widgets/controls"
          }
        },
        "e7678004845145f1aa7258210949fb26": {
          "model_module": "@jupyter-widgets/base",
          "model_name": "LayoutModel",
          "model_module_version": "1.2.0",
          "state": {
            "_view_name": "LayoutView",
            "grid_template_rows": null,
            "right": null,
            "justify_content": null,
            "_view_module": "@jupyter-widgets/base",
            "overflow": null,
            "_model_module_version": "1.2.0",
            "_view_count": null,
            "flex_flow": null,
            "width": null,
            "min_width": null,
            "border": null,
            "align_items": null,
            "bottom": null,
            "_model_module": "@jupyter-widgets/base",
            "top": null,
            "grid_column": null,
            "overflow_y": null,
            "overflow_x": null,
            "grid_auto_flow": null,
            "grid_area": null,
            "grid_template_columns": null,
            "flex": null,
            "_model_name": "LayoutModel",
            "justify_items": null,
            "grid_row": null,
            "max_height": null,
            "align_content": null,
            "visibility": null,
            "align_self": null,
            "height": null,
            "min_height": null,
            "padding": null,
            "grid_auto_rows": null,
            "grid_gap": null,
            "max_width": null,
            "order": null,
            "_view_module_version": "1.2.0",
            "grid_template_areas": null,
            "object_position": null,
            "object_fit": null,
            "grid_auto_columns": null,
            "margin": null,
            "display": null,
            "left": null
          }
        },
        "af8ae537fef343b288dc2ee69ea00c24": {
          "model_module": "@jupyter-widgets/controls",
          "model_name": "DescriptionStyleModel",
          "model_module_version": "1.5.0",
          "state": {
            "_view_name": "StyleView",
            "_model_name": "DescriptionStyleModel",
            "description_width": "",
            "_view_module": "@jupyter-widgets/base",
            "_model_module_version": "1.5.0",
            "_view_count": null,
            "_view_module_version": "1.2.0",
            "_model_module": "@jupyter-widgets/controls"
          }
        },
        "1be07765525848caa25635e89d53cddd": {
          "model_module": "@jupyter-widgets/base",
          "model_name": "LayoutModel",
          "model_module_version": "1.2.0",
          "state": {
            "_view_name": "LayoutView",
            "grid_template_rows": null,
            "right": null,
            "justify_content": null,
            "_view_module": "@jupyter-widgets/base",
            "overflow": null,
            "_model_module_version": "1.2.0",
            "_view_count": null,
            "flex_flow": null,
            "width": null,
            "min_width": null,
            "border": null,
            "align_items": null,
            "bottom": null,
            "_model_module": "@jupyter-widgets/base",
            "top": null,
            "grid_column": null,
            "overflow_y": null,
            "overflow_x": null,
            "grid_auto_flow": null,
            "grid_area": null,
            "grid_template_columns": null,
            "flex": null,
            "_model_name": "LayoutModel",
            "justify_items": null,
            "grid_row": null,
            "max_height": null,
            "align_content": null,
            "visibility": null,
            "align_self": null,
            "height": null,
            "min_height": null,
            "padding": null,
            "grid_auto_rows": null,
            "grid_gap": null,
            "max_width": null,
            "order": null,
            "_view_module_version": "1.2.0",
            "grid_template_areas": null,
            "object_position": null,
            "object_fit": null,
            "grid_auto_columns": null,
            "margin": null,
            "display": null,
            "left": null
          }
        }
      }
    }
  },
  "cells": [
    {
      "cell_type": "markdown",
      "metadata": {
        "id": "view-in-github",
        "colab_type": "text"
      },
      "source": [
        "<a href=\"https://colab.research.google.com/github/chiamaka249/IgboNER/blob/main/Projection/Working_Pratikalu_Awesome_align_demo.ipynb\" target=\"_parent\"><img src=\"https://colab.research.google.com/assets/colab-badge.svg\" alt=\"Open In Colab\"/></a>"
      ]
    },
    {
      "cell_type": "markdown",
      "metadata": {
        "id": "Hjc7LvIQbuMn"
      },
      "source": [
        "# AWESOME: Aligning Word Embedding Spaces of Multilingual Encoders"
      ]
    },
    {
      "cell_type": "markdown",
      "metadata": {
        "id": "7ipxcuO9vDgZ"
      },
      "source": [
        "[``awesome-align``](https://github.com/neulab/awesome-align) is a tool that can extract word alignments from multilingual BERT (mBERT) and allows you to fine-tune mBERT on parallel corpora for better alignment quality (see [our paper](https://arxiv.org/abs/2101.08231) for more details).\n",
        "\n",
        "This is a simple demo of how `awesome-align` extracts word alignments from mBERT."
      ]
    },
    {
      "cell_type": "markdown",
      "metadata": {
        "id": "bJpRK-1_wQsJ"
      },
      "source": [
        "First, install and import the following packages. (Note that the original `awesome-align` tool does not require the `transformers` package.)"
      ]
    },
    {
      "cell_type": "code",
      "metadata": {
        "id": "ODwJ_gQ8bnqR",
        "colab": {
          "base_uri": "https://localhost:8080/"
        },
        "outputId": "20968b54-5bdc-4ef8-fd9e-1aaff6fe1ec2"
      },
      "source": [
        "!pip install transformers==3.1.0\n",
        "import torch\n",
        "import transformers\n",
        "import itertools"
      ],
      "execution_count": 1,
      "outputs": [
        {
          "output_type": "stream",
          "name": "stdout",
          "text": [
            "Collecting transformers==3.1.0\n",
            "  Downloading transformers-3.1.0-py3-none-any.whl (884 kB)\n",
            "\u001b[K     |████████████████████████████████| 884 kB 4.2 MB/s \n",
            "\u001b[?25hRequirement already satisfied: filelock in /usr/local/lib/python3.7/dist-packages (from transformers==3.1.0) (3.6.0)\n",
            "Collecting sacremoses\n",
            "  Downloading sacremoses-0.0.47-py2.py3-none-any.whl (895 kB)\n",
            "\u001b[K     |████████████████████████████████| 895 kB 47.0 MB/s \n",
            "\u001b[?25hRequirement already satisfied: packaging in /usr/local/lib/python3.7/dist-packages (from transformers==3.1.0) (21.3)\n",
            "Requirement already satisfied: regex!=2019.12.17 in /usr/local/lib/python3.7/dist-packages (from transformers==3.1.0) (2019.12.20)\n",
            "Requirement already satisfied: tqdm>=4.27 in /usr/local/lib/python3.7/dist-packages (from transformers==3.1.0) (4.63.0)\n",
            "Requirement already satisfied: requests in /usr/local/lib/python3.7/dist-packages (from transformers==3.1.0) (2.23.0)\n",
            "Collecting sentencepiece!=0.1.92\n",
            "  Downloading sentencepiece-0.1.96-cp37-cp37m-manylinux_2_17_x86_64.manylinux2014_x86_64.whl (1.2 MB)\n",
            "\u001b[K     |████████████████████████████████| 1.2 MB 31.6 MB/s \n",
            "\u001b[?25hCollecting tokenizers==0.8.1.rc2\n",
            "  Downloading tokenizers-0.8.1rc2-cp37-cp37m-manylinux1_x86_64.whl (3.0 MB)\n",
            "\u001b[K     |████████████████████████████████| 3.0 MB 37.5 MB/s \n",
            "\u001b[?25hRequirement already satisfied: numpy in /usr/local/lib/python3.7/dist-packages (from transformers==3.1.0) (1.21.5)\n",
            "Requirement already satisfied: pyparsing!=3.0.5,>=2.0.2 in /usr/local/lib/python3.7/dist-packages (from packaging->transformers==3.1.0) (3.0.7)\n",
            "Requirement already satisfied: chardet<4,>=3.0.2 in /usr/local/lib/python3.7/dist-packages (from requests->transformers==3.1.0) (3.0.4)\n",
            "Requirement already satisfied: urllib3!=1.25.0,!=1.25.1,<1.26,>=1.21.1 in /usr/local/lib/python3.7/dist-packages (from requests->transformers==3.1.0) (1.24.3)\n",
            "Requirement already satisfied: idna<3,>=2.5 in /usr/local/lib/python3.7/dist-packages (from requests->transformers==3.1.0) (2.10)\n",
            "Requirement already satisfied: certifi>=2017.4.17 in /usr/local/lib/python3.7/dist-packages (from requests->transformers==3.1.0) (2021.10.8)\n",
            "Requirement already satisfied: click in /usr/local/lib/python3.7/dist-packages (from sacremoses->transformers==3.1.0) (7.1.2)\n",
            "Requirement already satisfied: joblib in /usr/local/lib/python3.7/dist-packages (from sacremoses->transformers==3.1.0) (1.1.0)\n",
            "Requirement already satisfied: six in /usr/local/lib/python3.7/dist-packages (from sacremoses->transformers==3.1.0) (1.15.0)\n",
            "Installing collected packages: tokenizers, sentencepiece, sacremoses, transformers\n",
            "Successfully installed sacremoses-0.0.47 sentencepiece-0.1.96 tokenizers-0.8.1rc2 transformers-3.1.0\n"
          ]
        }
      ]
    },
    {
      "cell_type": "markdown",
      "metadata": {
        "id": "QRvfawCbw2i7"
      },
      "source": [
        "Load the multilingual BERT model and its tokenizer."
      ]
    },
    {
      "cell_type": "code",
      "metadata": {
        "id": "9aPvLqT7eiry",
        "colab": {
          "base_uri": "https://localhost:8080/",
          "height": 112,
          "referenced_widgets": [
            "efc8d7b3ca1943efbd2345838bd9bfe0",
            "2a0f453a6d2f491a9b9722e15769bad8",
            "4b26f46a31c344b7abf3ba8b961b9bf1",
            "cc1c24f4d87e4de6a811710639461230",
            "a843de4d43b54aada2df9da5537919b9",
            "66b195421a404948a20d1ef42b0a10d2",
            "a163cb4276d94038940cf617250bc471",
            "5096c13f4d0a4436ad326699c0c3a31f",
            "228a4c752d504fa7af74d416056197cc",
            "15b5f33324754c6d90688a16f73f3a02",
            "f2ca4466cff24e3ba85714f0b9dd0bd1",
            "a3a7113020bc42729b2d64c5e4cf441e",
            "2a0c7bad49fb44ecb51ee6b37fc80976",
            "840b2b57deb146659bd190018b964373",
            "041b3f0e25204403b7195ac3be4cc238",
            "485a37b2893a4cd5b9f21af1d0bfb223",
            "4290ed67b39348af85f34375e1cd1d20",
            "d762dc6dc60a4cf6b03c65431511e07e",
            "1cebc2c8a4114b2eb79163e6994c4c1d",
            "97cbf325bb234ced9fa5e5d518c90055",
            "226210d36f3d4db69edec77eb2c66531",
            "7718cc84016046d4839f58bd9d424c80",
            "79e992a8b538449db3c5288516d41015",
            "8c51f351c44d420dae5ec7ce008c7682",
            "0cfd8ae6cb0141af982bc918cd5cc702",
            "232488e43f8d468d993bd77ffa6c570c",
            "243f79a37e974fec86c11aff09f34358",
            "d3d64a91b8f24e92842eea48b0744c0f",
            "5270af50265c4ab29378c1635b18dc01",
            "6d4474e3d9dd491189882a9b359d43be",
            "e7678004845145f1aa7258210949fb26",
            "af8ae537fef343b288dc2ee69ea00c24",
            "1be07765525848caa25635e89d53cddd"
          ]
        },
        "outputId": "5c186594-c9e8-4d83-e4e0-461671959cce"
      },
      "source": [
        "model = transformers.BertModel.from_pretrained('bert-base-multilingual-cased')\n",
        "tokenizer = transformers.BertTokenizer.from_pretrained('bert-base-multilingual-cased')"
      ],
      "execution_count": 2,
      "outputs": [
        {
          "output_type": "display_data",
          "data": {
            "application/vnd.jupyter.widget-view+json": {
              "model_id": "efc8d7b3ca1943efbd2345838bd9bfe0",
              "version_minor": 0,
              "version_major": 2
            },
            "text/plain": [
              "Downloading:   0%|          | 0.00/625 [00:00<?, ?B/s]"
            ]
          },
          "metadata": {}
        },
        {
          "output_type": "display_data",
          "data": {
            "application/vnd.jupyter.widget-view+json": {
              "model_id": "a3a7113020bc42729b2d64c5e4cf441e",
              "version_minor": 0,
              "version_major": 2
            },
            "text/plain": [
              "Downloading:   0%|          | 0.00/714M [00:00<?, ?B/s]"
            ]
          },
          "metadata": {}
        },
        {
          "output_type": "display_data",
          "data": {
            "application/vnd.jupyter.widget-view+json": {
              "model_id": "79e992a8b538449db3c5288516d41015",
              "version_minor": 0,
              "version_major": 2
            },
            "text/plain": [
              "Downloading:   0%|          | 0.00/996k [00:00<?, ?B/s]"
            ]
          },
          "metadata": {}
        }
      ]
    },
    {
      "cell_type": "markdown",
      "source": [
        "### Prepare input sentences\n",
        "\n",
        "\n",
        "1.   Read the English text file and store the sentences in a list `ensents = [en_sent1, en_sent2, ..., en_sentn]`\n",
        "2.   Do the same for the Igbo text file `igsents = [ig_sent1, ig_sent2, ..., ig_sentn]`\n",
        "\n",
        "3.   Store each sentence pair tuple in a list file `en_ig_sents = [(en_sent1, ig_sent1), (en_sent2, ig_sent2), ..., (en_sentn, ig_sentn)]\n",
        "\n"
      ],
      "metadata": {
        "id": "rjWB92jk0p-K"
      }
    },
    {
      "cell_type": "markdown",
      "metadata": {
        "id": "6RPxlavmxNmj"
      },
      "source": [
        "Input *tokenized* source and target sentences."
      ]
    },
    {
      "cell_type": "code",
      "source": [
        "!wget -c https://raw.githubusercontent.com/Chiamakac/TRAININGS/main/Alignment/nnwale.en\n",
        "!wget -c https://raw.githubusercontent.com/Chiamakac/TRAININGS/main/Alignment/nnwale.ig"
      ],
      "metadata": {
        "id": "zjp9phfHG2R3",
        "colab": {
          "base_uri": "https://localhost:8080/"
        },
        "outputId": "4f5576f2-8ca7-4cd9-9b01-da7c18f59459"
      },
      "execution_count": 3,
      "outputs": [
        {
          "output_type": "stream",
          "name": "stdout",
          "text": [
            "--2022-03-10 12:19:05--  https://raw.githubusercontent.com/Chiamakac/TRAININGS/main/Alignment/nnwale.en\n",
            "Resolving raw.githubusercontent.com (raw.githubusercontent.com)... 185.199.110.133, 185.199.111.133, 185.199.108.133, ...\n",
            "Connecting to raw.githubusercontent.com (raw.githubusercontent.com)|185.199.110.133|:443... connected.\n",
            "HTTP request sent, awaiting response... 200 OK\n",
            "Length: 14382 (14K) [text/plain]\n",
            "Saving to: ‘nnwale.en’\n",
            "\n",
            "nnwale.en           100%[===================>]  14.04K  --.-KB/s    in 0s      \n",
            "\n",
            "2022-03-10 12:19:06 (73.7 MB/s) - ‘nnwale.en’ saved [14382/14382]\n",
            "\n",
            "--2022-03-10 12:19:06--  https://raw.githubusercontent.com/Chiamakac/TRAININGS/main/Alignment/nnwale.ig\n",
            "Resolving raw.githubusercontent.com (raw.githubusercontent.com)... 185.199.109.133, 185.199.108.133, 185.199.110.133, ...\n",
            "Connecting to raw.githubusercontent.com (raw.githubusercontent.com)|185.199.109.133|:443... connected.\n",
            "HTTP request sent, awaiting response... 200 OK\n",
            "Length: 16403 (16K) [text/plain]\n",
            "Saving to: ‘nnwale.ig’\n",
            "\n",
            "nnwale.ig           100%[===================>]  16.02K  --.-KB/s    in 0.001s  \n",
            "\n",
            "2022-03-10 12:19:06 (12.9 MB/s) - ‘nnwale.ig’ saved [16403/16403]\n",
            "\n"
          ]
        }
      ]
    },
    {
      "cell_type": "code",
      "source": [
        "# opening the file in read mode\n",
        "en_file = open(\"/content/nnwale.en\", \"r\")\n",
        "\n",
        "# reading the file\n",
        "ensents = en_file.read()\n",
        "\n",
        "# replacing end splitting the text\n",
        "# when newline ('\\n') is seen.\n",
        "ensents = ensents.split(\"\\n\")\n",
        "# print(ensents)\n",
        "en_file.close()"
      ],
      "metadata": {
        "id": "VpTO-NPlqYFf"
      },
      "execution_count": 4,
      "outputs": []
    },
    {
      "cell_type": "code",
      "source": [
        "# opening the file in read mode\n",
        "ig_file = open(\"/content/nnwale.ig\", \"r\")\n",
        "\n",
        "# reading the file\n",
        "igsents = ig_file.read()\n",
        "\n",
        "# replacing end splitting the text\n",
        "# when newline ('\\n') is seen.\n",
        "igsents = igsents.split(\"\\n\")\n",
        "# print(igsents)\n",
        "ig_file.close()"
      ],
      "metadata": {
        "id": "-UxAmVAk1ets"
      },
      "execution_count": 5,
      "outputs": []
    },
    {
      "cell_type": "code",
      "source": [
        "# program to convert igsents list into a tuple\n",
        "igtuple=tuple(igsents)\n",
        "print(igtuple)\n"
      ],
      "metadata": {
        "id": "GbAAXWP9suL1",
        "colab": {
          "base_uri": "https://localhost:8080/"
        },
        "outputId": "c45f3eda-89b8-4811-e956-50c4f6789529"
      },
      "execution_count": 6,
      "outputs": [
        {
          "output_type": "stream",
          "name": "stdout",
          "text": [
            "(\"Aga- eme elimozu Pius Adesanmi n'ụbọchị Satọdee\", \"Adesanmi, nke amụrụ n'ọnwa February 27, 1972, bụ onye dere akwụkwọ amaara nke ọma bụ Naija No Dey Carry Last, mkpokọta ederede nkatọ nke afọ 2015 \", \"Ezinaụlọ Prof Pius Adesanmi nwụrụ anwụ ekwupụtala maka elimozu nwa afọ Naịjirịa nke gụrụ akwụkwọ Kanada, ode akwụkwọ, onye edemede, nke nwụrụ n'abalị nke iri n'ọnwa Maachị n'afọ 2019 oge Ụgbọelu nke Etiopịa gbariri ka nwa oge o fepụrụ gasịrị.\", \"Adesanmi, nke amụrụ n'ọnwa February 27, 1972, bụ onye dere akwụkwọ amaara nke ọma bụ Naija No Dey Carry Last, mkpokọta ederede nkatọ nke afọ 2015 \", \"Adesanmi so  n'otu n'ime ndị French Institute for Research n' Africa site n'afọ 1993 rue 1997, na French Institute nke Ndịda Afrịka n'afọ1998 na 2000.\", \"malite n'afọ 2002 rue 2005, ọ bụ osote ọkammụta na Comparative Literature na Mahadum Steeti Pennsylvania , United States.\", \"N'afọ 2006, o sonyere mahadum Carleton dị n' Ottawa, Canada, dịka ọkammụta nke Literature and African Studies.\", 'Ọ bụ onye ntụziaka nke mahadum Institute of African Studies  rue mgbe ọ nwụrụ', 'Ndị otu egwuregwu  na ndị nkuzi nke Southampton ga-atụkọ ego  maka ọkpụ iteghete ndị Leicester City gbara ha', \"Southampton sọrọ mpi nke ndị bu Iko League, City, n'agba nke anọ na asọmụmpi ahụ na Tuuzude ma ha alaghachila ebe ahụ na Satọde maka asọmụmpi Premier League\", \"Ekwuola m nde ugboro, n'afọ iriabụọ, anyị ga-ahụ nkwụghachi ihe anyị kụrụ\", 'Mide Ayeni bụ onye chọpụtara Pearl Recycling, nchekwa ụlọ ọrụ osisi na Naịjirịa. Ọ bụ onye Ngalaba US nke Nkuzi Ụmụnwaanyị ', \"Onyeisi ala nke Teflon na ndụ iteghete nọ n'ụzọ ọpụpụ ya site n'aka Dr. Wumi Akintide\", 'Teflon nke dara iwu site na ndụ iteghete bịara n\\'obodo ma kwe nkwa imegharị ihe niile Obama meworo mgbe ọ na-ekwe nkwa \"Ime Amerịka Ukwu Ọzọ\" ka aga asị na Amerịka enweela mgbe ọ dapụrụ n\\'ịdị ukwu ya site n\\'agha mba ụwa nke abụọ.', \"Elelghị anya, Ị matara onye m na-ekwu maka ya. Onyeisi ala Teflon nke nwere ndụ iteghete m bu n'obi abụghị onye ọzọ ma ewepụ Donald J. Trump. Ọ nwere onye ọbụla n'ime unu na-agụ ihe ederede a ga-echeta Barack Obama, onye nwetara mmeri ugboro abụọ ma nọọ afọ asatọ n'Ụlọ Ọcha na-enweghị okwu mpụ ọbụla, ka ana akọwa dịka nwamba nwere ndụ iteghete?\", \"Ọ bụghị site n'ogologo mgbọ. Azịza nyere ajụjụ enweghị azịza bụ nnukwu E-e. Ogbenye Obama dịka Onyeisi ala nke mba Amerịka nke agaara igbu ma were chụọ aja n'aka ndị ọ na-achị ndị busoro ya agha n'ụzọ dị iche iche n'oge ọ chịrị afọ asatọ n'Ụlọ Ọcha n'ihi ọchịchị obi sara sara.\", \"Ị gaara iche na ha gaara ịhapụ ya mgbe ọ rituru n'ọchịchị, mana ndị ọ chịrị na ndị Isi n'Ụlọ Ọcha ahapụghị ya bụ Obama ọbụladị nwa oge. N'ezie,iberibe ahụ na onye ahụ amaghị ihe ọbụla nọ n'Ụlọ Ọcha ka na achọ ụzọ ịta Obama maọbụ HIllary ụta ọbụladị site na nzuzu ya nke ọ chere na ọ bụ ya bụ Onyeisi ala nke Amerịka kacha mara ihe nọrọrịị n'ọchịchị\", \"Adesanmi, nke amụrụ n'ọnwa February 27, 1972, bụ onye dere akwụkwọ amaara nke ọma bụ Naija No Dey Carry Last, mkpokọta ederede nkatọ nke afọ 2015 \", \"Adesanmi so  n'otu n'ime ndị French Institute for Research n' Africa site n'afọ 1993 rue 1997, na French Institute nke Ndịda Afrịka n'afọ1998 na 2000.\", \"malite n'afọ 2002 rue 2005, ọ bụ osote ọkammụta na Comparative Literature na Mahadum Steeti Pennsylvania , United States.\", \"BISHOP AMATU eliela nne ya dị afọ iri iteghete na isii; site n'aka Regina Igwebuike \", \"N'ozi nnabata, Onye Nlekọta Ụlọakwụkwọ, Rev. Fr. Michael Adawai kwuru na ha na-eso ụzọ dị mma n'iwuli agụmaakwụkwọ ụmụaka, ma kwukwaa na ha anaghị anabata ihe ọbụla gbasara otu nzuzo.\", 'Ọ kelere ndị nlekọta Igwe Ụlọakwụkwọ nke St. Edmund maka isetipụ aka rue ịnara ndị Ụka Katọlik St. Alphonsus, nke Nkpọọ ama egwuregwu iji nabata ihe egwuregwu niile.', \"Lady Lizzy Ewuzie, Onyeisi Agụmakwụkwọ Ebe 'Area Education Officer (AEO), nke Ugwu Idemili nọchiri anya kọmishọna n'emume ahụ\", \"Site n'okwu kọmishọna kwuru na egwurgwu na-enye aka n'ọgụgụ isi, ahụ ike na iwulie akọnauche nke ndị na-amụ akwụkwọ, ma kwuo na itinye ụmụ ntorobịa n'egwuregwu oge niile ga-eme ka ha wepụ uche n'aghara dị iche iche.\", '7, 2020 (MOI), Bishop nke Dayosis Ụka Katọlik nke Okigwe, steeti Imo, Most Rev. Solomon Amatu nke ezinaụlọ ya sonyeere, sịrị nne ha nwụrụ anwụ jee nke ọma, Odoziakụ Rebecca Mgbonye Amatu nke dị afọ iri iteghete na isii.', \"Ọkammụta Omenugha kpọrọ oku ahụ n'oge asọmụmpi nke ụlọ na ụlọ nke Igwe Ụlọakwụkwọ nke St. Edmund, Nkpọọ chịkọbara\", \"onye ahụ nke nwụrụ bụ nke a mụrụ n'ụbọchị nke iri na anọ n'ọnwa Febụwarị n'afọ 1923 n'ezinaụlọ nke Pa/Odoziakụ Anakonwa laworo mmụọ nke ime obodo Oranto, ma lụọ Pius Amatu laworo mmụọ nke ime obodo Obinagu Akpu, ha abụọ dị n'Ukpo.\", 'A gwala ụmụ akwụkwọ ka ha wulie egwuregwu, ma belata otu nzuzo dịka Ụlọakwụkwọ nke St. Edmund, Nkpọọ na-emerube emume nke asọmụmpi ụlọ na ụlọ.', \"ka ọ na-ekwu okwu n'ụbọchị elimozu n'Ụlọ ụka Katọlik nke St. Simon, dị n'Ukpo, Most Rev. Paulinus Ezeokafor, Bishop nke Katọlik Dayosis Ọka kwuru na ili onye nwụrụ anwụ bụ otu n'ime nnukwu ọrụ ebere\", \"Nkpọọ (okpuru ọchịchị nke Ugwu Idemili), abalị iri abụọ na ise n'ọnwa Febụwarị n'afọ 2020 (MOI) Kọmịshọna nke Agụmaakwụkwọ Nta nke Steeti Anambra, Ọkammụta Kate Omenugha agwala ụlọ akwụkwọ nke gọọmentị na nke mmadụ nwe ka ha wulite egwuregwu iji belata otu nzuzo na nsogbu ọzọ dị n'etiti ụmụ ntorobịa\", 'Maazị Emmanuel Nwafor, onye nnọchite anya Ndịda Saụtụ nyere ndụmọdụ maka ezigbo nnyocha akara njirimara ndị ọkachamara iji belata akara njirimara adịgboroja', \"Ezeokafor tinyere na onye ahụ nwụrụ biri ndụ ya site n'okwukwe mbili n'ọnwụ, nke bụ mmezu ihe anyị kwenyere dịka ndị otu Kraịstị\", \"O kwusiri ike na ọnwụ bụ ekpere a azara aza nke na-ebufe mmadụ site na ndụ na-agabiga agabiga rue na ndụ ebighi ebi ka ya  na Chukwu biri n'udo \", 'onye kwuru okwu sịrị na Odoziakụ Amatu bụ onye dị ike, maa mma ma bụrụkwa ezigbo onye ukwe nke nwere olu ọma', \"Ọ bụ ọgụ egwu amaara nke ọma n'emume dị iche iche n'obodo ya ma karịa, nke nyere ya aha 'Onu Ogene'\", \"Ọ kọwara, 'ndụ bụ onyinye si n'aka Chukwu, nke aga asọpụrụ, gwakwa ndị anaghị ana eleru nne na nna ha anya n'oge agadi ka ha chegharịa iji rite ogologo ndụ dịka nkwa Chukwu siri dị\", \"Otu n'ime nwa nwoke nke onye nwụrụ, Most Rev.\", \"Solomon Amatu kwuru na nne ya bụ onye ekweghị ekwe ma mechaa bụrụ onye nke Kraịstị n'afọ 1962 nye ezinaụlọ Christ Apostolic Church (CAC) nke ọgwụgwọ nsọ nke ebilighị n'akwa di ya butere, ka emechara ọgbakọ ozi ọma\", \"Bishop Amatu kwuru na ọ bụ ezigbo onye otu nke CAC rue n'afọ 2003, oge ọ bụrụla onye okwukwe Katọlik mgbe e chisiri ya echiche ụka\", \"N'okwu ya, ọ nabara mgbanwe ahụ ma kwesie ike na nọgide na ya rue ụbọchị ọ nwụrụ, ma rịọkwaa Chukwu ka ọ nara mkpụrụ obi ya\", 'Gọvanọ steeti Anambra, Willie Obiano onye gara emume ahụ, kasịrị ezinaụlọ Amatu obi, rịọ Chukwu ka o nye ha amara idi onye nwụrụ', 'Gov.', 'Obiano kelere ndị bịara kpeere ezinaụlọ na-eru ụjụ ekpere, karịsịa ndị si ebe dị anya wee bịa, rịọ ka Chukwu nye ha amara ije', 'O kwuru na steeti ndị na- enwerị aṅụrị ezigbo nchekwa', \"mgbe ọ na-agụpụta ozi ugwu n'akụkụ ili, Dr. Solomon Anigbankpu, n'aha ụmụ ụmụ/ụmụ ụmụ nke abụọ nke onye nwụrụ , kwuru na mama nnukwu maara ihe ezigbo agụmaakwụkwọ ga-eme n'ime ndụ mmadụ, onye kwudosiri ike rue na njedebe.\", 'o kwenyere na ọ ka mma inwe ezigbo ọgụgụ isi tutu ije akwụkwọ nke bekee iwezụga ime omume dịka nwata.', \"o biri ndụ ekpere, ozi onye achọghị naanị ọdị mma ya, na ọrụ ebere, mweda n'ala, ịrụsi ọrụ ike, ịkwudosike na ịke ọrụ. \", 'ndụ ekpere ya na-efe efe nke mere na ị gaghị anọ ya nso hapụ inwe ndụ ekpere ahụ, ka o kwusiri ike', 'Ndị nnukwu mmadụ bịara mmemme ahụ gunyere Archbishop Valerian Okeke nke Archdiocese Onitsha , Ndị Bishop nke Province Owerri, na aka chụburu steeti Anambra bụ Maazị Peter Obi ', \"Onye bụrụla onyeisi INEC, Ọkammụta Maurice Iwu, Kọmishọna nke ihe banyere ụmụ nwaanyị n'Anambra, Odoziakụ Ndidi Mezue, Ndị Eze ọdịnaala na ndị mmadụ nọ na mpaghara ndụ dị iche iche.\", \"GỌỌMENTỊ ENYELA ALA NDỊGIDE NYE NGALABA ỤLỌIKPE MKPESA NKE DỊ N'ỌKA site n'aka John Ndu \", \"Okwuosa kọwara na imirikiti ụlọ dị n'Ọka ochie bụ ndị arụrụ ọtụtụ afọ gara aga, ugbua, mere enweghị nhazi nke imirikiti ime obodo\", '6, 2020 (MOI) Gọọmentị Steeti Anambra enyeela iberibe ala ndịgide ebe Ụlọikpe Etiti ga-arụ Ngalaba Ụlọikpe Mkpesa nke Ọka. ', \"Gọv. Willie Obiano mara ọkwa a mgbe ọ na-anabata ndị Ọkaikpe na ndị ọrụ ụlọikpe, nke Onyeisi Ụlọikpe Mkpesa Ọka bụ Justice Zainab Bulkachuwa bụ onye ndu ha bịara n'ụlọ obibi nke gọvanọ n'Amọọbịa\", 'Nkea ga-egosi mbibi dị ukwu ', 'ịnabata ndị nnọchite, Gov. Obiano kwuru na ọchịchị ya ga-eweta akụrụngwa niile kwesiri iji hụ na enwere ikpe ziri ezi.', \"Aga- enye ego iti aka n'obi site n'aka steeti gọọmentị iji me ka Ọka dịka obodo zuru oke. \", 'Gọvanọ kwuru na emechaala nhazi maka inweta odee nye ndị Ọkaikpe maka inwe ikpe ziri ezi.', \"Ọ mara ọkwa na aga ewepụta ya nye ụlọikpe iri abụọ na ise n'agba nke mbụ\", \"Na mgbakwụnye inweta odee, Gov. Obiano kwuru na ọchịchị ya ga-enye ọzụzụ, zụgharịa ndị ọkaikpe na ndị ọrụ ụlọikpe ndị ọzọ iji me ka ha nwee mmụta n'inye ikpe ziri ezi n'ụzọ ọgbara ọhụrụ\", \"Etu ọ dị, nkea agaghị egbochi ibibi ụlọ anyị ọbụla ga-ebute ihe mberede n'obodo.'\", 'ọchịchị m na-eletarị ndị Ọkaikpe anya', 'ọdịmma ha bụ nke na-echu m ụra', 'akwụchapụrụ m ụgwọ niile nke ọchịchị gara aga ji ndị Ọkaikpe', \"n'ezie, ọ bụrụla ihe mmepụta nye ọchịchị m n'okpuru ọchịchị nke onyeisi Ụlọikpe Mkpesa, Justice Zainab Bulkachuwa\", \"Etoro m nkwado gị , 'ka Obianọ kwuru'\", \"gọvanọ kwusiri ike na ọchịchị ya  enweela mmekọrịta siri ike n'etiti aka atọ nke gọọmentị, ma kwe nkwa ịgba mbọ hụ agbatauhie ọbụla abataghị nakwa inwe ike ọrụ etu o kwesiri\", \"Onyeisi, Ụlọikpe nke Mkpesa, Justice Bulkachuwa, kwuru na usoro nke iguzobe ụlọikpe mkpesa na steeti a malitere n'afọ 2018, mgbe Gọvanọ\", 'Obiano guzobere kọmitii mmadụ ise maka ọrụ Ụlọikpe Mkpesa nke Dr. Onyechi Ikpeazụ, SAN bụ onyeisi ya.', \"o gwara gọvanọ ka ọ gba mbọ hụ na ewuliri ụlọ ewumewu ahụ ọsọọsọ, ka ọ wee dị ka Ụlọikpe Mkpesa ndị ọzọ dị n'ala anyị.\", \"Onyeisi Ikpe nke Anambra na Kọmishọna nke Ikpe, Dr. Uju Nwogu jara onyeisi ike n'ihi nkwado ya n'ịhụ na emume ahụ gara nke ọma\", \"Okwuosa kwara arịrị na ndị ọrụ iro bụ ndị na-enweta mwakpo oge niile ma na-enweta mmerụ ahụ n'oge ịrụ ọrụ ha, tụmadị na Nise, Okpuno na Ụmụawụlụ, kwusie nke a ike dịka ihe ịma aka n'ihu kacha njọ\", \"ỤLỌỌRỤ AHỤIKE NTA EKWUPỤTALA AGBA NKE MBỤ NKE NIPDS NKE AFỌ 2020 site n'aka Nnedinma C. Okeke\", 'O kwukwara na ndị nhazi mmepe ga- ahụ maka njem nleta ebe ana arụ ọrụ iji hụ na ọrụ na-aga dịka etu esiri nye ntuziaka.', \"ndị ọkachamara n'ụlọọrụ nrụpụta bụ ndị agwara ka ha tinye akara njirimara n'ihe eserese iji nwe azịza n'ihe mmebi ọbụla mere n'ụlọ ahụ\", 'Okwuosa mechara kọwaa na ACTDA ga-elebere ụlọ na nhazi mmepe, tinyekwara na mgbazi arụrarụ gunyere ọrụ akwụkwọ ebe ọ na-ewube ya ga-eweta usoro nlele, ngosi akaebe nke onwunwe na ike nke ọkaikpe.', \"isii, 2020 (MOI) Ndị otu Mwube Ahụike Nta nke steeti Anambra 'Anambra State Primary Healthcare Development Agency (ASPHCDA)' n'ijikọ aka ndị ọrụ ọzọ amaala ọkwa agba nke mbụ n'afọ 2020 maka ụbọchị ịgba ọgwụ mgbochi 'National Immunization Plus Days (NIPDs) na steeti a. \", \"Nnukwu ode akwụkwọ, ASPHCDA, Dr Chioma Ezenyimulu mara ọkwa a n'oge nzukọ State Social Mobilisation Committee (SSMC) nke emere n'ụlọọrụ ASPHCDA dị n'Ọka.\", \"o kwuru na emume ahụ bụ nke ana-emerị n'etiti ọnwa Maachị na Epụrel n'afọ gara aga gana adịzi\", 'Anyị na-ewehie ndozi dịka iwu', \"E nwere mkpebi na USSD a , ọbụladị tutu etinye Mịnịsta a n'ọrụ, ka o kwuru\", 'ọ bụghị maka ezigbo nwata nwoke maka ihea bụ azụmahịa ma ihe kwesiri ka e mere.', 'Ndị ọrụ abịaghị otu abalị tinye ụgwọ naịra anọ', \"emere mgbagha dị ukwu maka ya ma nwee mkpebi tutu ebipụta akụrụngwa iwu maka imalite site na ndị niile nke ahụ metụtara, ka ọ kọwara gaa n'ihu\", \"N'otu aka ahụ, Onyeisi nke Otu ndị Ụlọ ọrụ akpọmoku ekwentị nke Naịjirịa 'Association of Telecommunications Companies of Nigeria (ATCON), Olusola Teniola, jụrụ ebe ikike onwe nke NCC sitere, ma ọ bụrụ na mịnịstrị gaa n'ihu itinye aka.\", 'Teniola kwuru na Gọọmentị Etiti kwesiri inye NCC ohere itinye iwu mkpebi ha mere, tụmadị ebe ọ metutara mwuli ụlọọrụ akpọmoku ekwentị', \"N'ezie, nnyocha nke Guardian gosiri na enwere ikike iwu maka ndị NCC itinye aka ịchekwa ndị ahịa ozi telekọm (ya bụ, ndị ahịa ụlọakụ ndị na-eji USSD eme mgbazinye ego)\", \"Na gboo ọkpụrụkpụ okwu ya banyere 'Iwuli Ngalaba Ọdụ ụgbọ mmiri n'Ọnịcha; ebe dị mkpa, ọrụ dị oke mkpa na ụzọ ịga n'ihu,' Maazị Moghalu kwuru na ime njem bụ nke anapụghị ịgbanarị n'ụwa taa.\", \"emere emume ahụ na Katidral Ndị Nsọ niile 'All Saints Cathedral' dị n' Ọnịcha.\", \"N'okwu ya, ụzọ na-aga n'ihu nke iji lebanye ọtụtụ nsogbu anya kpebiri na ha gana arụ ọrụ iji rụzu ọrụ ọdụ ụgbọ mmiri ahụ\", \"Maazị Moghalu kwuru nkea mgbe ọ na-ekwu uche ya nye ndị nta akụkọ ka emechara nkuzi owuwo anya nke ndị ji ọkwa na mpaghara Ọwụwa anyanwụ Ndịda site n'aka NIWA.\", \"NCC bụkwa ndị enyere ọrụ ịhụ maka ikwalite ezigbo asọmụmpi n'ụlọọrụ ịkpọ oku na nchekwa ozi na  ndị na-eweta akụrụngwa n'iwehie ike ahịa ma ọbụ ịgba mgba megide asọmụmpi na omume adịghị mma site n'aka ndị ozi ma ọbụ ndị mweta akụrụngwa, na ọrụ nke ọrụ gburugburu nke Kọmishọn maka akụnaụba na nchịkwa akụrụngwa nke ụlọọrụ nzisa ozi 'Commission for economic and technical regulation'\", \"N'ebe ọtụtụ ndị Naịjirịa no, iji USSD bụụrụ ha ihe ọhụrụ, mana nnyocha sitere n'aka Guardian gosiri na amụma a dịrịị ire kamgbe afọ 2014.\", \"Amụma a, etu ọ dị, nwetara iri elu n'afọ a , mgbe ndị NCC nyere mkpesa Mkpebi maka ya.\", \"ozi mkpesa enwetara n'aka ọwa ozi ikuku  nke NCC akpọrọ Ụgwọ Mkpebi nke USSD 'Determination of USSD Pricing'  nke edere ụbọchị iri abụọ na atọ nke ọnwa Julaị afọ 2019 ma burukwa mbinye aka nke Osote Onyeisi Ukwu nke Kọmishọn ahụ, Ọkammụta \", \"Umar Danbatta, gosipụtara na n'etiti ihe ndị ọzọ, na agba USSD bụ tịnkọm iri abụọ, ọnụ agba USSD bụ otu Naịra\", '63k ebe ọnụ ala maka tịnkọm agba USSD iri abụọ bụ otu Naịra  ', '63k ebe ọnụ elu maka tịnkọm agba USSD iri abụọ bụ Naịra anọ ', \"Akwụkwọ mkpebi ahụ tinyere mmalite nke nha USSD site n'aka ndị ọrụ netiwọk ekwentị 'mobile network operators' (MNOs) imalite n'ụbọchị mbụ nke ọnwa Sepụtemba n'afọ 2019 ma gaa n'ihu ịdị ire nye ndị enyere ikike ahụ.\")\n"
          ]
        }
      ]
    },
    {
      "cell_type": "code",
      "source": [
        "# program to convert ensents list into a tuple\n",
        "entuple=tuple(ensents)\n",
        "print(entuple)\n"
      ],
      "metadata": {
        "id": "FLHx2w33zfvG",
        "colab": {
          "base_uri": "https://localhost:8080/"
        },
        "outputId": "a74e2e92-bef2-4395-a266-4ac7566f56ce"
      },
      "execution_count": 7,
      "outputs": [
        {
          "output_type": "stream",
          "name": "stdout",
          "text": [
            "('Pius Adesanmi To Be Buried On Saturday', 'Adesanmi, born February 27, 1972, was author of the popular book Naija No Dey Carry Last, a 2015 collection of satirical essays.', 'The family of late Prof Pius Adesanmi has announced the burial of the Nigerian-born Canadian scholar, writer, literary critic and columnist, who died on March 10, 2019 when an Ethiopian Airline aircraft crashed shortly after take-off.', 'Adesanmi, born February 27, 1972, was author of the popular book Naija No Dey Carry Last, a 2015 collection of satirical essays.', 'Adesanmi was a Fellow of the French Institute for Research in Africa from 1993 to 1997, and of the French Institute of South Africa in 1998 and 2000.', 'From 2002 to 2005, he was Assistant Professor of Comparative Literature at the Pennsylvania State University, United States.', 'In 2006, he joined Carleton University in Ottawa, Canada, as a professor of Literature and African Studies.', \"He was the director of the university's Institute of African Studies until his death.\", 'Players, Coaching Staff Of Southampton To Donate Wages After 9-0 Hammering By Leicester', 'Southampton play League Cup holders, City, in the fourth round of the competition on Tuesday and are back there on Saturday for a Premier League clash.', 'I have said it million times, in 20 years, we are going to see the reward of our investments.', 'Mide Ayeni is the Founder of Pearl Recycling, a sustainable eco-furniture company in Nigeria. She is a US Department of States Techwomen Fellow.', 'The Teflon President With Nine Lives Is On His Way Out By Dr. Wumi Akintide', 'The Teflon outlaw with 9 lives came to town promising to undo everything Obama has done while promising to “make America great again,” as if America has ever at any time lost her greatness following the end of the Second World War.', 'You probably know who I am talking about. The Teflon President with nine lives I have in mind is nobody else but Donald J. Trump. Can any of you reading this write-up imagine Barack Obama, who twice won the popular vote and the Electoral College tallies and who spent 8 good years in the White House without a single scandal, being described as a cat with 9 lives?', 'Not by a long shot. The answer to the rhetorical question has to be a resounding no. Poor Obama as President of the United States would long have been skinned alive and sacrificed to the gods by the Republicans who obstructed him every step of the way during all of his 8 years in the White House all in the name of partisan politics.', 'You would have thought they would have left him off the hook the moment he left office, but Republicans and their Narcissist-in-Chief in the White House have not left Obama alone for one brief moment. In fact, the grossly ignorant and incompetent lunatic in the White House still finds some ways to blame Obama or Hillary even for some of his own insanity or foolishness while fraudulently claiming to be the smartest President America has ever put in office.', 'Adesanmi, born February 27, 1972, was author of the popular book Naija No Dey Carry Last, a 2015 collection of satirical essays.', 'Adesanmi was a Fellow of the French Institute for Research in Africa from 1993 to 1997, and of the French Institute of South Africa in 1998 and 2000.', 'From 2002 to 2005, he was Assistant Professor of Comparative Literature at the Pennsylvania State University, United States.', 'BISHOP AMATU BURIES 96-YEAR-OLD MUM By Regina Igwebuike', 'In a welcome address, School Manager, Rev. Fr. Michael Adawai said they applied holistic approach to children’s educational development, noting that they had zero tolerance for cultism.', 'She thanked management of St. Edmund Group of schools for going extra the mile to borrow St. Alphonsus Catholic Church, Nkpor sporting ground to accommodate all sporting events.', 'Lady Lizzy Ewuzie, Area Education Officer (AEO), Idemili North represented the commissioner at the event.', 'According to the commissioner said sports help in mental, physical and psychological development of learners, stressing that properly engaging youths in sports will make them lose interest in social vices.', '7, 2020 (MOI) Catholic Bishop of Okigwe Diocese, Imo State, Most Rev. Solomon Amatu accompanied by family and friends, bid farewell to his late mother, Mrs Rebecca Mgboye Amatu aged 96.', 'Prof. Omenugha made the call during Inter-house sports competition organised by St. Edmund Group of Schools, Nkpor.', 'The deceased was born on Feb. 14, 1923 into family of late Pa/Mrs Anakonwa of Oranto Village, married to late Pius Amatu of Obinagu Akpu Village, both in Ukpo.', 'SCHOOLS URGED TO PROMOTE SPORTS, CURB CULTISM AS ST EDMUND SCHOOLS NKPOR HOLD INTER-HOUSE SPORTS', 'Speaking while concelebrating the burial Mass at St. Simon Catholic Church, Ukpo, Most Rev. Paulinus Ezeokafor, Catholic Bishop of Awka Diocese said that burying the dead was one of the ``corporal works of mercy’’.', 'Nkpor (Idemili North LGA), Feb. 25, 2020 (MOI) Anambra State Commissioner for Basic Education, Prof. Kate Omenugha has urged private and public schools to promote sports as panacea against cultism and other vices among youths.', 'Mr Emmanuel Nwafor, member representing Orumba South Constituency suggested proper checking of the seals of the consultants in other to ascertain their level of authenticity because fake seals abound.', 'Ezeokafor added that the deceased lived her life in the hope of resurrection, which was a fulfillment of what we believe in as Christians.', 'He emphasised that death was an answered prayer as one transcended from temporal life to eternity to live at peace with God.', 'The prelate noted that Mrs Amatu was energetic, beautiful as well as a good singer with a golden voice.', 'She was a notable lead singer in all ceremonies and activities in her town and beyond, which merited her name `Onu Ogene’.', 'He explains: ``life is a gift from God, which must be respected’’, urging those who fail to take care of their parents at old age to retrace their steps so as to reap God’s promise of long life’’.', 'One of the deceased sons, Most Rev.', 'Solomon Amatu said that his mother was non believer and became a Christian convert in 1962 to Christ Apostolic Church (CAC) as a result of miraculous healing of her husband when he was down, bedridden after attending a crusade.', 'Bishop Amatu noted that she was an ardent and devout member of CAC until 2003, when she became a Catholic faith after his Episcopal Ordination.', 'According to him, she embraced the conversion and convincingly remained ardent and devoted to it until her last breath, praying God for a repose of her soul.', 'Anambra State Governor, Willie Obiano, who attended the event, commiserated with Amatu family, praying God to grant them the fortitude to bear the irreparable loss.', 'Gov.', 'Obiano thanked those, who came to pray for the deceased’s soul, especially those who came from far places, praying God to grant them journey mercies.', 'He noted that the state was enjoying security to the glory of God.', 'Delivering a tribute at the grave side, Dr Solomon Anigbankpu, on behalf of the deceased’s grand/great grandchildren said that grandma knew precisely what good education could do to anyone, who persisted to the end.', 'She believes that it is better to develop common sense first before western education to avoid behaving and acting like a child.', 'She lived a life of prayer, selfless service, high sense of responsibility and charity, humility, hard work, tenacity and doggedness.', 'Her prayer life is infectious and you can never stay with her without being infected,’’ he emphasised.', 'Dignitaries at the ceremony include Archbishop Valerian Okeke of Onitsha Archdiocese, Owerri Provincial Bishops, a former Governor of Anambra State, Mr Peter Obi.', 'A former INEC Chairman, Prof Maurice Iwu, Anambra Commissioner for Women Affairs, Mrs Ndidi Mezue, Traditional Rulers and people from all walks of life attended too.', 'GOVERNMENT DONATES LAND FOR PERMANENT SITE OF AWKA DIVISION OF COURT OF APPEAL By John Ndu', 'Okwuosa explained that most buildings within the old Awka were built several years ago, hence the disorderly nature of most villages.', '6, 2020 (MOI) Anambra State Government has donated a parcel of land on which a permanent site on which the Federal Judiciary can build the Awka Division of Court of Appeal.', \"Gov. Willie Obiano announced this while receiving Judges and staff members of the judiciary, led by President of Court of Appeal, Justice Zainab Bulkachuwa at the Governor''s Lodge, Amawbia.'\", 'This will entail serious demolition.', 'Receiving the delegation, Gov. Obiano said his administration would always provide necessary facilities that would enhance prompt dispensation of justice.', 'Compensation will be paid by the state government in order to get Awka to become a standard city.', 'The governor said that arrangements had been finalised for procurement of stenograph for judges to facilitate justice delivery.', 'He announced that it would made available to 25 courts in the first batch.', 'In addition to procurement of stenograph, Gov. Obiano said that his administration would train, retrain judges and other judicial staff to enable them to get acquainted with modern system of justice delivery.', 'However, this will not hinder the demolition of any building that poses threat to the community.', 'My administration has been taking care of Judges.', 'Their welfare is my utmost concern.', 'I cleared the accumulated debt owed judges by previous administrations.', 'Indeed it is a milestone achievement for my administration under the leadership of Court of Appeal President, Justice Zainab Bulkachuwa.', 'I sincerely appreciate your support,’’ Obiano said.', 'The governor stressed that his administration had maintained robust relationship among the three arms of government, promising to ensure no interference and adequate separation of duties.', 'President, Court of Appeal, Justice Bulkachuwa, said that process for the inaugurating of Court of appeal in the state started in 2018, when Gov.', 'Obiano set up a five-man Court of Appeal Project Committee headed by Dr Onyechi Ikpeazu, SAN.', 'She urged the governor to ensure speedy upgrade of the structures, to be in line with stipulated standards of Court of Appeal across the nation.', 'Anambra Attorney-General and Commissioner for Justice, Dr Uju Nwogu commended the president for her support at ensuring the success of the event.', 'Okwuosa lamented that field workers were usually attacked and injured during enforcement, especially at Nise, Okpuno and Umuawulu, stressing that as their worst challenge.', 'PRIMARY HEALTHCARE AGENCY ANNOUNCES 2020 FIRST ROUND NIPDS By Nnedinma C Okeke', 'He added that development control would entail site visits to ensure that work would be going on as approved.', 'Consultants in the building industry are expected to append their seal in drawings in other to take liability for any default in the building', 'Okwuosa, then, explained that ACTDA would look at buildings and development control, adding that building control involves paper work where the developer is expected to bring survey plans, evidence of ownership and power of attorney.', '6, 2020 (MOI) Anambra State Primary Healthcare Development Agency (ASPHCDA) in collaboration with partner agencies have announced 2020 first round of National Immunisation Plus Days (NIPDs) in the state.', 'Executive Secretary, ASPHCDA, Dr Chioma Ezenyimulu made the announcement during the State Social Mobilisation Committee (SSMC) meeting at ASPHCDA office complex, Awka.', 'She noted that the event which was always held between March and April in past years would now hold', 'We are confusing regulation with policy.', 'There was a determination on this USSD, even before the appointment of the Minister, he stated.', 'It is not about the good boy, but this is commercial and the normal things have been done.', 'Operators did not come up overnight to charge four Naira.', 'It was robustly deliberated upon and a decision jointly taken before the legal instrument was published for implementation by all parties involved,” he explained further.', 'Similarly, the President of the Association of Telecommunications Companies of Nigeria (ATCON), Olusola Teniola, vehemently queried where the autonomy of the NCC lies if the ministry continues to interfere.', 'Teniola stated that the Federal Government needed to allow the NCC’s independence to enforce decisions made, especially as it bothers on the development of the telecommunications industry.', 'Indeed, The Guardian checks showed that there is a legal basis for the NCC’s intervention to protect telecoms service consumers (i.e.bank customers who use USSD for financial transactions).', 'Earlier in his keynote address on ``Reforming the Maritime Sector in Onitsha; Priority Areas, Potential Projects and the Way Forward,’’ Mr Moghalu noted that transportation was indispensable in the World today.', 'The event was held at All Saints Cathedral, Onitsha.', 'According to him, ongoing concessionary processes to address certain issues resolved that they will continue working to complete the port project.', 'Mr Moghalu said this while exchanging views with newsmen after a sensitisation seminar of South East zone stakeholders by NIWA.', 'NCC is also saddled with the responsibility of promoting fair competition in the communications industry and protection of services and facilities providers from misuse of market power or anti-competitive and unfair practices by other service or facilities providers or equipment suppliers; and the responsibility to general responsibility of the Commission for economic and technical regulation of the communications industry.', 'To many Nigerians, the use of USSD sounded new, but checks by The Guardian showed that the initiative has been in effect since 2014.', 'This initiative, however, got a boost this year, when the NCC did a determination report on it.', 'The report obtained from NCC’s website termed ‘Determination of USSD Pricing,’ dated July 23, 2019, and signed by the Executive Vice Chairman of the Commission, Prof.', 'Umar Danbatta, revealed, among other things, that a USSD session is 20 seconds; the cost of a USSD session is N1.', '63K the price floor for a 20 seconds USSD service is N1.', '63k while price cap for a 20 Seconds USSD Session is N4.', 'The Determination document envisaged the implementation of the USSD charges by the mobile network operators (MNOs) to take effect from September 1, 2019, and remains valid and binding on licensees')\n"
          ]
        }
      ]
    },
    {
      "cell_type": "code",
      "source": [
        "# Python zip() function can be used to map the lists altogether \n",
        "# to create a list of tuples using the command:list(zip(list))\n",
        "lst1 = entuple\n",
        "lst2 = igtuple\n",
        "en_ig_sents = list(zip(lst1,lst2))\n",
        "print(en_ig_sents)"
      ],
      "metadata": {
        "colab": {
          "base_uri": "https://localhost:8080/"
        },
        "id": "wpKlfbTwI-tC",
        "outputId": "fce313d3-4b4e-4357-8c1d-5642abcf2eb9"
      },
      "execution_count": 8,
      "outputs": [
        {
          "output_type": "stream",
          "name": "stdout",
          "text": [
            "[('Pius Adesanmi To Be Buried On Saturday', \"Aga- eme elimozu Pius Adesanmi n'ụbọchị Satọdee\"), ('Adesanmi, born February 27, 1972, was author of the popular book Naija No Dey Carry Last, a 2015 collection of satirical essays.', \"Adesanmi, nke amụrụ n'ọnwa February 27, 1972, bụ onye dere akwụkwọ amaara nke ọma bụ Naija No Dey Carry Last, mkpokọta ederede nkatọ nke afọ 2015 \"), ('The family of late Prof Pius Adesanmi has announced the burial of the Nigerian-born Canadian scholar, writer, literary critic and columnist, who died on March 10, 2019 when an Ethiopian Airline aircraft crashed shortly after take-off.', \"Ezinaụlọ Prof Pius Adesanmi nwụrụ anwụ ekwupụtala maka elimozu nwa afọ Naịjirịa nke gụrụ akwụkwọ Kanada, ode akwụkwọ, onye edemede, nke nwụrụ n'abalị nke iri n'ọnwa Maachị n'afọ 2019 oge Ụgbọelu nke Etiopịa gbariri ka nwa oge o fepụrụ gasịrị.\"), ('Adesanmi, born February 27, 1972, was author of the popular book Naija No Dey Carry Last, a 2015 collection of satirical essays.', \"Adesanmi, nke amụrụ n'ọnwa February 27, 1972, bụ onye dere akwụkwọ amaara nke ọma bụ Naija No Dey Carry Last, mkpokọta ederede nkatọ nke afọ 2015 \"), ('Adesanmi was a Fellow of the French Institute for Research in Africa from 1993 to 1997, and of the French Institute of South Africa in 1998 and 2000.', \"Adesanmi so  n'otu n'ime ndị French Institute for Research n' Africa site n'afọ 1993 rue 1997, na French Institute nke Ndịda Afrịka n'afọ1998 na 2000.\"), ('From 2002 to 2005, he was Assistant Professor of Comparative Literature at the Pennsylvania State University, United States.', \"malite n'afọ 2002 rue 2005, ọ bụ osote ọkammụta na Comparative Literature na Mahadum Steeti Pennsylvania , United States.\"), ('In 2006, he joined Carleton University in Ottawa, Canada, as a professor of Literature and African Studies.', \"N'afọ 2006, o sonyere mahadum Carleton dị n' Ottawa, Canada, dịka ọkammụta nke Literature and African Studies.\"), (\"He was the director of the university's Institute of African Studies until his death.\", 'Ọ bụ onye ntụziaka nke mahadum Institute of African Studies  rue mgbe ọ nwụrụ'), ('Players, Coaching Staff Of Southampton To Donate Wages After 9-0 Hammering By Leicester', 'Ndị otu egwuregwu  na ndị nkuzi nke Southampton ga-atụkọ ego  maka ọkpụ iteghete ndị Leicester City gbara ha'), ('Southampton play League Cup holders, City, in the fourth round of the competition on Tuesday and are back there on Saturday for a Premier League clash.', \"Southampton sọrọ mpi nke ndị bu Iko League, City, n'agba nke anọ na asọmụmpi ahụ na Tuuzude ma ha alaghachila ebe ahụ na Satọde maka asọmụmpi Premier League\"), ('I have said it million times, in 20 years, we are going to see the reward of our investments.', \"Ekwuola m nde ugboro, n'afọ iriabụọ, anyị ga-ahụ nkwụghachi ihe anyị kụrụ\"), ('Mide Ayeni is the Founder of Pearl Recycling, a sustainable eco-furniture company in Nigeria. She is a US Department of States Techwomen Fellow.', 'Mide Ayeni bụ onye chọpụtara Pearl Recycling, nchekwa ụlọ ọrụ osisi na Naịjirịa. Ọ bụ onye Ngalaba US nke Nkuzi Ụmụnwaanyị '), ('The Teflon President With Nine Lives Is On His Way Out By Dr. Wumi Akintide', \"Onyeisi ala nke Teflon na ndụ iteghete nọ n'ụzọ ọpụpụ ya site n'aka Dr. Wumi Akintide\"), ('The Teflon outlaw with 9 lives came to town promising to undo everything Obama has done while promising to “make America great again,” as if America has ever at any time lost her greatness following the end of the Second World War.', 'Teflon nke dara iwu site na ndụ iteghete bịara n\\'obodo ma kwe nkwa imegharị ihe niile Obama meworo mgbe ọ na-ekwe nkwa \"Ime Amerịka Ukwu Ọzọ\" ka aga asị na Amerịka enweela mgbe ọ dapụrụ n\\'ịdị ukwu ya site n\\'agha mba ụwa nke abụọ.'), ('You probably know who I am talking about. The Teflon President with nine lives I have in mind is nobody else but Donald J. Trump. Can any of you reading this write-up imagine Barack Obama, who twice won the popular vote and the Electoral College tallies and who spent 8 good years in the White House without a single scandal, being described as a cat with 9 lives?', \"Elelghị anya, Ị matara onye m na-ekwu maka ya. Onyeisi ala Teflon nke nwere ndụ iteghete m bu n'obi abụghị onye ọzọ ma ewepụ Donald J. Trump. Ọ nwere onye ọbụla n'ime unu na-agụ ihe ederede a ga-echeta Barack Obama, onye nwetara mmeri ugboro abụọ ma nọọ afọ asatọ n'Ụlọ Ọcha na-enweghị okwu mpụ ọbụla, ka ana akọwa dịka nwamba nwere ndụ iteghete?\"), ('Not by a long shot. The answer to the rhetorical question has to be a resounding no. Poor Obama as President of the United States would long have been skinned alive and sacrificed to the gods by the Republicans who obstructed him every step of the way during all of his 8 years in the White House all in the name of partisan politics.', \"Ọ bụghị site n'ogologo mgbọ. Azịza nyere ajụjụ enweghị azịza bụ nnukwu E-e. Ogbenye Obama dịka Onyeisi ala nke mba Amerịka nke agaara igbu ma were chụọ aja n'aka ndị ọ na-achị ndị busoro ya agha n'ụzọ dị iche iche n'oge ọ chịrị afọ asatọ n'Ụlọ Ọcha n'ihi ọchịchị obi sara sara.\"), ('You would have thought they would have left him off the hook the moment he left office, but Republicans and their Narcissist-in-Chief in the White House have not left Obama alone for one brief moment. In fact, the grossly ignorant and incompetent lunatic in the White House still finds some ways to blame Obama or Hillary even for some of his own insanity or foolishness while fraudulently claiming to be the smartest President America has ever put in office.', \"Ị gaara iche na ha gaara ịhapụ ya mgbe ọ rituru n'ọchịchị, mana ndị ọ chịrị na ndị Isi n'Ụlọ Ọcha ahapụghị ya bụ Obama ọbụladị nwa oge. N'ezie,iberibe ahụ na onye ahụ amaghị ihe ọbụla nọ n'Ụlọ Ọcha ka na achọ ụzọ ịta Obama maọbụ HIllary ụta ọbụladị site na nzuzu ya nke ọ chere na ọ bụ ya bụ Onyeisi ala nke Amerịka kacha mara ihe nọrọrịị n'ọchịchị\"), ('Adesanmi, born February 27, 1972, was author of the popular book Naija No Dey Carry Last, a 2015 collection of satirical essays.', \"Adesanmi, nke amụrụ n'ọnwa February 27, 1972, bụ onye dere akwụkwọ amaara nke ọma bụ Naija No Dey Carry Last, mkpokọta ederede nkatọ nke afọ 2015 \"), ('Adesanmi was a Fellow of the French Institute for Research in Africa from 1993 to 1997, and of the French Institute of South Africa in 1998 and 2000.', \"Adesanmi so  n'otu n'ime ndị French Institute for Research n' Africa site n'afọ 1993 rue 1997, na French Institute nke Ndịda Afrịka n'afọ1998 na 2000.\"), ('From 2002 to 2005, he was Assistant Professor of Comparative Literature at the Pennsylvania State University, United States.', \"malite n'afọ 2002 rue 2005, ọ bụ osote ọkammụta na Comparative Literature na Mahadum Steeti Pennsylvania , United States.\"), ('BISHOP AMATU BURIES 96-YEAR-OLD MUM By Regina Igwebuike', \"BISHOP AMATU eliela nne ya dị afọ iri iteghete na isii; site n'aka Regina Igwebuike \"), ('In a welcome address, School Manager, Rev. Fr. Michael Adawai said they applied holistic approach to children’s educational development, noting that they had zero tolerance for cultism.', \"N'ozi nnabata, Onye Nlekọta Ụlọakwụkwọ, Rev. Fr. Michael Adawai kwuru na ha na-eso ụzọ dị mma n'iwuli agụmaakwụkwọ ụmụaka, ma kwukwaa na ha anaghị anabata ihe ọbụla gbasara otu nzuzo.\"), ('She thanked management of St. Edmund Group of schools for going extra the mile to borrow St. Alphonsus Catholic Church, Nkpor sporting ground to accommodate all sporting events.', 'Ọ kelere ndị nlekọta Igwe Ụlọakwụkwọ nke St. Edmund maka isetipụ aka rue ịnara ndị Ụka Katọlik St. Alphonsus, nke Nkpọọ ama egwuregwu iji nabata ihe egwuregwu niile.'), ('Lady Lizzy Ewuzie, Area Education Officer (AEO), Idemili North represented the commissioner at the event.', \"Lady Lizzy Ewuzie, Onyeisi Agụmakwụkwọ Ebe 'Area Education Officer (AEO), nke Ugwu Idemili nọchiri anya kọmishọna n'emume ahụ\"), ('According to the commissioner said sports help in mental, physical and psychological development of learners, stressing that properly engaging youths in sports will make them lose interest in social vices.', \"Site n'okwu kọmishọna kwuru na egwurgwu na-enye aka n'ọgụgụ isi, ahụ ike na iwulie akọnauche nke ndị na-amụ akwụkwọ, ma kwuo na itinye ụmụ ntorobịa n'egwuregwu oge niile ga-eme ka ha wepụ uche n'aghara dị iche iche.\"), ('7, 2020 (MOI) Catholic Bishop of Okigwe Diocese, Imo State, Most Rev. Solomon Amatu accompanied by family and friends, bid farewell to his late mother, Mrs Rebecca Mgboye Amatu aged 96.', '7, 2020 (MOI), Bishop nke Dayosis Ụka Katọlik nke Okigwe, steeti Imo, Most Rev. Solomon Amatu nke ezinaụlọ ya sonyeere, sịrị nne ha nwụrụ anwụ jee nke ọma, Odoziakụ Rebecca Mgbonye Amatu nke dị afọ iri iteghete na isii.'), ('Prof. Omenugha made the call during Inter-house sports competition organised by St. Edmund Group of Schools, Nkpor.', \"Ọkammụta Omenugha kpọrọ oku ahụ n'oge asọmụmpi nke ụlọ na ụlọ nke Igwe Ụlọakwụkwọ nke St. Edmund, Nkpọọ chịkọbara\"), ('The deceased was born on Feb. 14, 1923 into family of late Pa/Mrs Anakonwa of Oranto Village, married to late Pius Amatu of Obinagu Akpu Village, both in Ukpo.', \"onye ahụ nke nwụrụ bụ nke a mụrụ n'ụbọchị nke iri na anọ n'ọnwa Febụwarị n'afọ 1923 n'ezinaụlọ nke Pa/Odoziakụ Anakonwa laworo mmụọ nke ime obodo Oranto, ma lụọ Pius Amatu laworo mmụọ nke ime obodo Obinagu Akpu, ha abụọ dị n'Ukpo.\"), ('SCHOOLS URGED TO PROMOTE SPORTS, CURB CULTISM AS ST EDMUND SCHOOLS NKPOR HOLD INTER-HOUSE SPORTS', 'A gwala ụmụ akwụkwọ ka ha wulie egwuregwu, ma belata otu nzuzo dịka Ụlọakwụkwọ nke St. Edmund, Nkpọọ na-emerube emume nke asọmụmpi ụlọ na ụlọ.'), ('Speaking while concelebrating the burial Mass at St. Simon Catholic Church, Ukpo, Most Rev. Paulinus Ezeokafor, Catholic Bishop of Awka Diocese said that burying the dead was one of the ``corporal works of mercy’’.', \"ka ọ na-ekwu okwu n'ụbọchị elimozu n'Ụlọ ụka Katọlik nke St. Simon, dị n'Ukpo, Most Rev. Paulinus Ezeokafor, Bishop nke Katọlik Dayosis Ọka kwuru na ili onye nwụrụ anwụ bụ otu n'ime nnukwu ọrụ ebere\"), ('Nkpor (Idemili North LGA), Feb. 25, 2020 (MOI) Anambra State Commissioner for Basic Education, Prof. Kate Omenugha has urged private and public schools to promote sports as panacea against cultism and other vices among youths.', \"Nkpọọ (okpuru ọchịchị nke Ugwu Idemili), abalị iri abụọ na ise n'ọnwa Febụwarị n'afọ 2020 (MOI) Kọmịshọna nke Agụmaakwụkwọ Nta nke Steeti Anambra, Ọkammụta Kate Omenugha agwala ụlọ akwụkwọ nke gọọmentị na nke mmadụ nwe ka ha wulite egwuregwu iji belata otu nzuzo na nsogbu ọzọ dị n'etiti ụmụ ntorobịa\"), ('Mr Emmanuel Nwafor, member representing Orumba South Constituency suggested proper checking of the seals of the consultants in other to ascertain their level of authenticity because fake seals abound.', 'Maazị Emmanuel Nwafor, onye nnọchite anya Ndịda Saụtụ nyere ndụmọdụ maka ezigbo nnyocha akara njirimara ndị ọkachamara iji belata akara njirimara adịgboroja'), ('Ezeokafor added that the deceased lived her life in the hope of resurrection, which was a fulfillment of what we believe in as Christians.', \"Ezeokafor tinyere na onye ahụ nwụrụ biri ndụ ya site n'okwukwe mbili n'ọnwụ, nke bụ mmezu ihe anyị kwenyere dịka ndị otu Kraịstị\"), ('He emphasised that death was an answered prayer as one transcended from temporal life to eternity to live at peace with God.', \"O kwusiri ike na ọnwụ bụ ekpere a azara aza nke na-ebufe mmadụ site na ndụ na-agabiga agabiga rue na ndụ ebighi ebi ka ya  na Chukwu biri n'udo \"), ('The prelate noted that Mrs Amatu was energetic, beautiful as well as a good singer with a golden voice.', 'onye kwuru okwu sịrị na Odoziakụ Amatu bụ onye dị ike, maa mma ma bụrụkwa ezigbo onye ukwe nke nwere olu ọma'), ('She was a notable lead singer in all ceremonies and activities in her town and beyond, which merited her name `Onu Ogene’.', \"Ọ bụ ọgụ egwu amaara nke ọma n'emume dị iche iche n'obodo ya ma karịa, nke nyere ya aha 'Onu Ogene'\"), ('He explains: ``life is a gift from God, which must be respected’’, urging those who fail to take care of their parents at old age to retrace their steps so as to reap God’s promise of long life’’.', \"Ọ kọwara, 'ndụ bụ onyinye si n'aka Chukwu, nke aga asọpụrụ, gwakwa ndị anaghị ana eleru nne na nna ha anya n'oge agadi ka ha chegharịa iji rite ogologo ndụ dịka nkwa Chukwu siri dị\"), ('One of the deceased sons, Most Rev.', \"Otu n'ime nwa nwoke nke onye nwụrụ, Most Rev.\"), ('Solomon Amatu said that his mother was non believer and became a Christian convert in 1962 to Christ Apostolic Church (CAC) as a result of miraculous healing of her husband when he was down, bedridden after attending a crusade.', \"Solomon Amatu kwuru na nne ya bụ onye ekweghị ekwe ma mechaa bụrụ onye nke Kraịstị n'afọ 1962 nye ezinaụlọ Christ Apostolic Church (CAC) nke ọgwụgwọ nsọ nke ebilighị n'akwa di ya butere, ka emechara ọgbakọ ozi ọma\"), ('Bishop Amatu noted that she was an ardent and devout member of CAC until 2003, when she became a Catholic faith after his Episcopal Ordination.', \"Bishop Amatu kwuru na ọ bụ ezigbo onye otu nke CAC rue n'afọ 2003, oge ọ bụrụla onye okwukwe Katọlik mgbe e chisiri ya echiche ụka\"), ('According to him, she embraced the conversion and convincingly remained ardent and devoted to it until her last breath, praying God for a repose of her soul.', \"N'okwu ya, ọ nabara mgbanwe ahụ ma kwesie ike na nọgide na ya rue ụbọchị ọ nwụrụ, ma rịọkwaa Chukwu ka ọ nara mkpụrụ obi ya\"), ('Anambra State Governor, Willie Obiano, who attended the event, commiserated with Amatu family, praying God to grant them the fortitude to bear the irreparable loss.', 'Gọvanọ steeti Anambra, Willie Obiano onye gara emume ahụ, kasịrị ezinaụlọ Amatu obi, rịọ Chukwu ka o nye ha amara idi onye nwụrụ'), ('Gov.', 'Gov.'), ('Obiano thanked those, who came to pray for the deceased’s soul, especially those who came from far places, praying God to grant them journey mercies.', 'Obiano kelere ndị bịara kpeere ezinaụlọ na-eru ụjụ ekpere, karịsịa ndị si ebe dị anya wee bịa, rịọ ka Chukwu nye ha amara ije'), ('He noted that the state was enjoying security to the glory of God.', 'O kwuru na steeti ndị na- enwerị aṅụrị ezigbo nchekwa'), ('Delivering a tribute at the grave side, Dr Solomon Anigbankpu, on behalf of the deceased’s grand/great grandchildren said that grandma knew precisely what good education could do to anyone, who persisted to the end.', \"mgbe ọ na-agụpụta ozi ugwu n'akụkụ ili, Dr. Solomon Anigbankpu, n'aha ụmụ ụmụ/ụmụ ụmụ nke abụọ nke onye nwụrụ , kwuru na mama nnukwu maara ihe ezigbo agụmaakwụkwọ ga-eme n'ime ndụ mmadụ, onye kwudosiri ike rue na njedebe.\"), ('She believes that it is better to develop common sense first before western education to avoid behaving and acting like a child.', 'o kwenyere na ọ ka mma inwe ezigbo ọgụgụ isi tutu ije akwụkwọ nke bekee iwezụga ime omume dịka nwata.'), ('She lived a life of prayer, selfless service, high sense of responsibility and charity, humility, hard work, tenacity and doggedness.', \"o biri ndụ ekpere, ozi onye achọghị naanị ọdị mma ya, na ọrụ ebere, mweda n'ala, ịrụsi ọrụ ike, ịkwudosike na ịke ọrụ. \"), ('Her prayer life is infectious and you can never stay with her without being infected,’’ he emphasised.', 'ndụ ekpere ya na-efe efe nke mere na ị gaghị anọ ya nso hapụ inwe ndụ ekpere ahụ, ka o kwusiri ike'), ('Dignitaries at the ceremony include Archbishop Valerian Okeke of Onitsha Archdiocese, Owerri Provincial Bishops, a former Governor of Anambra State, Mr Peter Obi.', 'Ndị nnukwu mmadụ bịara mmemme ahụ gunyere Archbishop Valerian Okeke nke Archdiocese Onitsha , Ndị Bishop nke Province Owerri, na aka chụburu steeti Anambra bụ Maazị Peter Obi '), ('A former INEC Chairman, Prof Maurice Iwu, Anambra Commissioner for Women Affairs, Mrs Ndidi Mezue, Traditional Rulers and people from all walks of life attended too.', \"Onye bụrụla onyeisi INEC, Ọkammụta Maurice Iwu, Kọmishọna nke ihe banyere ụmụ nwaanyị n'Anambra, Odoziakụ Ndidi Mezue, Ndị Eze ọdịnaala na ndị mmadụ nọ na mpaghara ndụ dị iche iche.\"), ('GOVERNMENT DONATES LAND FOR PERMANENT SITE OF AWKA DIVISION OF COURT OF APPEAL By John Ndu', \"GỌỌMENTỊ ENYELA ALA NDỊGIDE NYE NGALABA ỤLỌIKPE MKPESA NKE DỊ N'ỌKA site n'aka John Ndu \"), ('Okwuosa explained that most buildings within the old Awka were built several years ago, hence the disorderly nature of most villages.', \"Okwuosa kọwara na imirikiti ụlọ dị n'Ọka ochie bụ ndị arụrụ ọtụtụ afọ gara aga, ugbua, mere enweghị nhazi nke imirikiti ime obodo\"), ('6, 2020 (MOI) Anambra State Government has donated a parcel of land on which a permanent site on which the Federal Judiciary can build the Awka Division of Court of Appeal.', '6, 2020 (MOI) Gọọmentị Steeti Anambra enyeela iberibe ala ndịgide ebe Ụlọikpe Etiti ga-arụ Ngalaba Ụlọikpe Mkpesa nke Ọka. '), (\"Gov. Willie Obiano announced this while receiving Judges and staff members of the judiciary, led by President of Court of Appeal, Justice Zainab Bulkachuwa at the Governor''s Lodge, Amawbia.'\", \"Gọv. Willie Obiano mara ọkwa a mgbe ọ na-anabata ndị Ọkaikpe na ndị ọrụ ụlọikpe, nke Onyeisi Ụlọikpe Mkpesa Ọka bụ Justice Zainab Bulkachuwa bụ onye ndu ha bịara n'ụlọ obibi nke gọvanọ n'Amọọbịa\"), ('This will entail serious demolition.', 'Nkea ga-egosi mbibi dị ukwu '), ('Receiving the delegation, Gov. Obiano said his administration would always provide necessary facilities that would enhance prompt dispensation of justice.', 'ịnabata ndị nnọchite, Gov. Obiano kwuru na ọchịchị ya ga-eweta akụrụngwa niile kwesiri iji hụ na enwere ikpe ziri ezi.'), ('Compensation will be paid by the state government in order to get Awka to become a standard city.', \"Aga- enye ego iti aka n'obi site n'aka steeti gọọmentị iji me ka Ọka dịka obodo zuru oke. \"), ('The governor said that arrangements had been finalised for procurement of stenograph for judges to facilitate justice delivery.', 'Gọvanọ kwuru na emechaala nhazi maka inweta odee nye ndị Ọkaikpe maka inwe ikpe ziri ezi.'), ('He announced that it would made available to 25 courts in the first batch.', \"Ọ mara ọkwa na aga ewepụta ya nye ụlọikpe iri abụọ na ise n'agba nke mbụ\"), ('In addition to procurement of stenograph, Gov. Obiano said that his administration would train, retrain judges and other judicial staff to enable them to get acquainted with modern system of justice delivery.', \"Na mgbakwụnye inweta odee, Gov. Obiano kwuru na ọchịchị ya ga-enye ọzụzụ, zụgharịa ndị ọkaikpe na ndị ọrụ ụlọikpe ndị ọzọ iji me ka ha nwee mmụta n'inye ikpe ziri ezi n'ụzọ ọgbara ọhụrụ\"), ('However, this will not hinder the demolition of any building that poses threat to the community.', \"Etu ọ dị, nkea agaghị egbochi ibibi ụlọ anyị ọbụla ga-ebute ihe mberede n'obodo.'\"), ('My administration has been taking care of Judges.', 'ọchịchị m na-eletarị ndị Ọkaikpe anya'), ('Their welfare is my utmost concern.', 'ọdịmma ha bụ nke na-echu m ụra'), ('I cleared the accumulated debt owed judges by previous administrations.', 'akwụchapụrụ m ụgwọ niile nke ọchịchị gara aga ji ndị Ọkaikpe'), ('Indeed it is a milestone achievement for my administration under the leadership of Court of Appeal President, Justice Zainab Bulkachuwa.', \"n'ezie, ọ bụrụla ihe mmepụta nye ọchịchị m n'okpuru ọchịchị nke onyeisi Ụlọikpe Mkpesa, Justice Zainab Bulkachuwa\"), ('I sincerely appreciate your support,’’ Obiano said.', \"Etoro m nkwado gị , 'ka Obianọ kwuru'\"), ('The governor stressed that his administration had maintained robust relationship among the three arms of government, promising to ensure no interference and adequate separation of duties.', \"gọvanọ kwusiri ike na ọchịchị ya  enweela mmekọrịta siri ike n'etiti aka atọ nke gọọmentị, ma kwe nkwa ịgba mbọ hụ agbatauhie ọbụla abataghị nakwa inwe ike ọrụ etu o kwesiri\"), ('President, Court of Appeal, Justice Bulkachuwa, said that process for the inaugurating of Court of appeal in the state started in 2018, when Gov.', \"Onyeisi, Ụlọikpe nke Mkpesa, Justice Bulkachuwa, kwuru na usoro nke iguzobe ụlọikpe mkpesa na steeti a malitere n'afọ 2018, mgbe Gọvanọ\"), ('Obiano set up a five-man Court of Appeal Project Committee headed by Dr Onyechi Ikpeazu, SAN.', 'Obiano guzobere kọmitii mmadụ ise maka ọrụ Ụlọikpe Mkpesa nke Dr. Onyechi Ikpeazụ, SAN bụ onyeisi ya.'), ('She urged the governor to ensure speedy upgrade of the structures, to be in line with stipulated standards of Court of Appeal across the nation.', \"o gwara gọvanọ ka ọ gba mbọ hụ na ewuliri ụlọ ewumewu ahụ ọsọọsọ, ka ọ wee dị ka Ụlọikpe Mkpesa ndị ọzọ dị n'ala anyị.\"), ('Anambra Attorney-General and Commissioner for Justice, Dr Uju Nwogu commended the president for her support at ensuring the success of the event.', \"Onyeisi Ikpe nke Anambra na Kọmishọna nke Ikpe, Dr. Uju Nwogu jara onyeisi ike n'ihi nkwado ya n'ịhụ na emume ahụ gara nke ọma\"), ('Okwuosa lamented that field workers were usually attacked and injured during enforcement, especially at Nise, Okpuno and Umuawulu, stressing that as their worst challenge.', \"Okwuosa kwara arịrị na ndị ọrụ iro bụ ndị na-enweta mwakpo oge niile ma na-enweta mmerụ ahụ n'oge ịrụ ọrụ ha, tụmadị na Nise, Okpuno na Ụmụawụlụ, kwusie nke a ike dịka ihe ịma aka n'ihu kacha njọ\"), ('PRIMARY HEALTHCARE AGENCY ANNOUNCES 2020 FIRST ROUND NIPDS By Nnedinma C Okeke', \"ỤLỌỌRỤ AHỤIKE NTA EKWUPỤTALA AGBA NKE MBỤ NKE NIPDS NKE AFỌ 2020 site n'aka Nnedinma C. Okeke\"), ('He added that development control would entail site visits to ensure that work would be going on as approved.', 'O kwukwara na ndị nhazi mmepe ga- ahụ maka njem nleta ebe ana arụ ọrụ iji hụ na ọrụ na-aga dịka etu esiri nye ntuziaka.'), ('Consultants in the building industry are expected to append their seal in drawings in other to take liability for any default in the building', \"ndị ọkachamara n'ụlọọrụ nrụpụta bụ ndị agwara ka ha tinye akara njirimara n'ihe eserese iji nwe azịza n'ihe mmebi ọbụla mere n'ụlọ ahụ\"), ('Okwuosa, then, explained that ACTDA would look at buildings and development control, adding that building control involves paper work where the developer is expected to bring survey plans, evidence of ownership and power of attorney.', 'Okwuosa mechara kọwaa na ACTDA ga-elebere ụlọ na nhazi mmepe, tinyekwara na mgbazi arụrarụ gunyere ọrụ akwụkwọ ebe ọ na-ewube ya ga-eweta usoro nlele, ngosi akaebe nke onwunwe na ike nke ọkaikpe.'), ('6, 2020 (MOI) Anambra State Primary Healthcare Development Agency (ASPHCDA) in collaboration with partner agencies have announced 2020 first round of National Immunisation Plus Days (NIPDs) in the state.', \"isii, 2020 (MOI) Ndị otu Mwube Ahụike Nta nke steeti Anambra 'Anambra State Primary Healthcare Development Agency (ASPHCDA)' n'ijikọ aka ndị ọrụ ọzọ amaala ọkwa agba nke mbụ n'afọ 2020 maka ụbọchị ịgba ọgwụ mgbochi 'National Immunization Plus Days (NIPDs) na steeti a. \"), ('Executive Secretary, ASPHCDA, Dr Chioma Ezenyimulu made the announcement during the State Social Mobilisation Committee (SSMC) meeting at ASPHCDA office complex, Awka.', \"Nnukwu ode akwụkwọ, ASPHCDA, Dr Chioma Ezenyimulu mara ọkwa a n'oge nzukọ State Social Mobilisation Committee (SSMC) nke emere n'ụlọọrụ ASPHCDA dị n'Ọka.\"), ('She noted that the event which was always held between March and April in past years would now hold', \"o kwuru na emume ahụ bụ nke ana-emerị n'etiti ọnwa Maachị na Epụrel n'afọ gara aga gana adịzi\"), ('We are confusing regulation with policy.', 'Anyị na-ewehie ndozi dịka iwu'), ('There was a determination on this USSD, even before the appointment of the Minister, he stated.', \"E nwere mkpebi na USSD a , ọbụladị tutu etinye Mịnịsta a n'ọrụ, ka o kwuru\"), ('It is not about the good boy, but this is commercial and the normal things have been done.', 'ọ bụghị maka ezigbo nwata nwoke maka ihea bụ azụmahịa ma ihe kwesiri ka e mere.'), ('Operators did not come up overnight to charge four Naira.', 'Ndị ọrụ abịaghị otu abalị tinye ụgwọ naịra anọ'), ('It was robustly deliberated upon and a decision jointly taken before the legal instrument was published for implementation by all parties involved,” he explained further.', \"emere mgbagha dị ukwu maka ya ma nwee mkpebi tutu ebipụta akụrụngwa iwu maka imalite site na ndị niile nke ahụ metụtara, ka ọ kọwara gaa n'ihu\"), ('Similarly, the President of the Association of Telecommunications Companies of Nigeria (ATCON), Olusola Teniola, vehemently queried where the autonomy of the NCC lies if the ministry continues to interfere.', \"N'otu aka ahụ, Onyeisi nke Otu ndị Ụlọ ọrụ akpọmoku ekwentị nke Naịjirịa 'Association of Telecommunications Companies of Nigeria (ATCON), Olusola Teniola, jụrụ ebe ikike onwe nke NCC sitere, ma ọ bụrụ na mịnịstrị gaa n'ihu itinye aka.\"), ('Teniola stated that the Federal Government needed to allow the NCC’s independence to enforce decisions made, especially as it bothers on the development of the telecommunications industry.', 'Teniola kwuru na Gọọmentị Etiti kwesiri inye NCC ohere itinye iwu mkpebi ha mere, tụmadị ebe ọ metutara mwuli ụlọọrụ akpọmoku ekwentị'), ('Indeed, The Guardian checks showed that there is a legal basis for the NCC’s intervention to protect telecoms service consumers (i.e.bank customers who use USSD for financial transactions).', \"N'ezie, nnyocha nke Guardian gosiri na enwere ikike iwu maka ndị NCC itinye aka ịchekwa ndị ahịa ozi telekọm (ya bụ, ndị ahịa ụlọakụ ndị na-eji USSD eme mgbazinye ego)\"), ('Earlier in his keynote address on ``Reforming the Maritime Sector in Onitsha; Priority Areas, Potential Projects and the Way Forward,’’ Mr Moghalu noted that transportation was indispensable in the World today.', \"Na gboo ọkpụrụkpụ okwu ya banyere 'Iwuli Ngalaba Ọdụ ụgbọ mmiri n'Ọnịcha; ebe dị mkpa, ọrụ dị oke mkpa na ụzọ ịga n'ihu,' Maazị Moghalu kwuru na ime njem bụ nke anapụghị ịgbanarị n'ụwa taa.\"), ('The event was held at All Saints Cathedral, Onitsha.', \"emere emume ahụ na Katidral Ndị Nsọ niile 'All Saints Cathedral' dị n' Ọnịcha.\"), ('According to him, ongoing concessionary processes to address certain issues resolved that they will continue working to complete the port project.', \"N'okwu ya, ụzọ na-aga n'ihu nke iji lebanye ọtụtụ nsogbu anya kpebiri na ha gana arụ ọrụ iji rụzu ọrụ ọdụ ụgbọ mmiri ahụ\"), ('Mr Moghalu said this while exchanging views with newsmen after a sensitisation seminar of South East zone stakeholders by NIWA.', \"Maazị Moghalu kwuru nkea mgbe ọ na-ekwu uche ya nye ndị nta akụkọ ka emechara nkuzi owuwo anya nke ndị ji ọkwa na mpaghara Ọwụwa anyanwụ Ndịda site n'aka NIWA.\"), ('NCC is also saddled with the responsibility of promoting fair competition in the communications industry and protection of services and facilities providers from misuse of market power or anti-competitive and unfair practices by other service or facilities providers or equipment suppliers; and the responsibility to general responsibility of the Commission for economic and technical regulation of the communications industry.', \"NCC bụkwa ndị enyere ọrụ ịhụ maka ikwalite ezigbo asọmụmpi n'ụlọọrụ ịkpọ oku na nchekwa ozi na  ndị na-eweta akụrụngwa n'iwehie ike ahịa ma ọbụ ịgba mgba megide asọmụmpi na omume adịghị mma site n'aka ndị ozi ma ọbụ ndị mweta akụrụngwa, na ọrụ nke ọrụ gburugburu nke Kọmishọn maka akụnaụba na nchịkwa akụrụngwa nke ụlọọrụ nzisa ozi 'Commission for economic and technical regulation'\"), ('To many Nigerians, the use of USSD sounded new, but checks by The Guardian showed that the initiative has been in effect since 2014.', \"N'ebe ọtụtụ ndị Naịjirịa no, iji USSD bụụrụ ha ihe ọhụrụ, mana nnyocha sitere n'aka Guardian gosiri na amụma a dịrịị ire kamgbe afọ 2014.\"), ('This initiative, however, got a boost this year, when the NCC did a determination report on it.', \"Amụma a, etu ọ dị, nwetara iri elu n'afọ a , mgbe ndị NCC nyere mkpesa Mkpebi maka ya.\"), ('The report obtained from NCC’s website termed ‘Determination of USSD Pricing,’ dated July 23, 2019, and signed by the Executive Vice Chairman of the Commission, Prof.', \"ozi mkpesa enwetara n'aka ọwa ozi ikuku  nke NCC akpọrọ Ụgwọ Mkpebi nke USSD 'Determination of USSD Pricing'  nke edere ụbọchị iri abụọ na atọ nke ọnwa Julaị afọ 2019 ma burukwa mbinye aka nke Osote Onyeisi Ukwu nke Kọmishọn ahụ, Ọkammụta \"), ('Umar Danbatta, revealed, among other things, that a USSD session is 20 seconds; the cost of a USSD session is N1.', \"Umar Danbatta, gosipụtara na n'etiti ihe ndị ọzọ, na agba USSD bụ tịnkọm iri abụọ, ọnụ agba USSD bụ otu Naịra\"), ('63K the price floor for a 20 seconds USSD service is N1.', '63k ebe ọnụ ala maka tịnkọm agba USSD iri abụọ bụ otu Naịra  '), ('63k while price cap for a 20 Seconds USSD Session is N4.', '63k ebe ọnụ elu maka tịnkọm agba USSD iri abụọ bụ Naịra anọ '), ('The Determination document envisaged the implementation of the USSD charges by the mobile network operators (MNOs) to take effect from September 1, 2019, and remains valid and binding on licensees', \"Akwụkwọ mkpebi ahụ tinyere mmalite nke nha USSD site n'aka ndị ọrụ netiwọk ekwentị 'mobile network operators' (MNOs) imalite n'ụbọchị mbụ nke ọnwa Sepụtemba n'afọ 2019 ma gaa n'ihu ịdị ire nye ndị enyere ikike ahụ.\")]\n"
          ]
        }
      ]
    },
    {
      "cell_type": "markdown",
      "source": [
        "```\n",
        "for src, tgt in en_ig_sents:\n",
        "  # perform the alignment\n",
        "```"
      ],
      "metadata": {
        "id": "QOqzLNSg1FoS"
      }
    },
    {
      "cell_type": "markdown",
      "metadata": {
        "id": "HpUa-ZqUxZ8Z"
      },
      "source": [
        "Run the model and print the resulting alignments."
      ]
    },
    {
      "cell_type": "code",
      "source": [
        "for src,tgt in en_ig_sents:\n",
        "  sent_src, sent_tgt = src.strip().split(), tgt.strip().split()\n",
        "  token_src, token_tgt = [tokenizer.tokenize(word) for word in sent_src], [tokenizer.tokenize(word) for word in sent_tgt]\n",
        "  wid_src, wid_tgt = [tokenizer.convert_tokens_to_ids(x) for x in token_src], [tokenizer.convert_tokens_to_ids(x) for x in token_tgt]\n",
        "  ids_src, ids_tgt = tokenizer.prepare_for_model(list(itertools.chain(*wid_src)), return_tensors='pt', model_max_length=tokenizer.model_max_length, truncation=True)['input_ids'], tokenizer.prepare_for_model(list(itertools.chain(*wid_tgt)), return_tensors='pt', truncation=True, model_max_length=tokenizer.model_max_length)['input_ids']\n",
        "  sub2word_map_src = []\n",
        "  for i, word_list in enumerate(token_src):\n",
        "    sub2word_map_src += [i for x in word_list]\n",
        "  sub2word_map_tgt = []\n",
        "  for i, word_list in enumerate(token_tgt):\n",
        "    sub2word_map_tgt += [i for x in word_list]\n",
        "\n",
        "  # alignment\n",
        "  align_layer = 8\n",
        "  threshold = 1e-3\n",
        "  model.eval()\n",
        "  with torch.no_grad():\n",
        "    out_src = model(ids_src.unsqueeze(0), output_hidden_states=True)[2][align_layer][0, 1:-1]\n",
        "    out_tgt = model(ids_tgt.unsqueeze(0), output_hidden_states=True)[2][align_layer][0, 1:-1]\n",
        "\n",
        "    dot_prod = torch.matmul(out_src, out_tgt.transpose(-1, -2))\n",
        "\n",
        "    softmax_srctgt = torch.nn.Softmax(dim=-1)(dot_prod)\n",
        "    softmax_tgtsrc = torch.nn.Softmax(dim=-2)(dot_prod)\n",
        "\n",
        "    softmax_inter = (softmax_srctgt > threshold)*(softmax_tgtsrc > threshold)\n",
        "\n",
        "  align_subwords = torch.nonzero(softmax_inter, as_tuple=False)\n",
        "  align_words = set()\n",
        "  for i, j in align_subwords:\n",
        "    align_words.add( (sub2word_map_src[i], sub2word_map_tgt[j]) )\n",
        "\n",
        "  # printing\n",
        "  class color:\n",
        "    PURPLE = '\\033[95m'\n",
        "    CYAN = '\\033[96m'\n",
        "    DARKCYAN = '\\033[36m'\n",
        "    BLUE = '\\033[94m'\n",
        "    GREEN = '\\033[92m'\n",
        "    YELLOW = '\\033[93m'\n",
        "    RED = '\\033[91m'\n",
        "    BOLD = '\\033[1m'\n",
        "    UNDERLINE = '\\033[4m'\n",
        "    END = '\\033[0m'\n",
        "\n",
        "for i, j in sorted(align_words):\n",
        "  print(f'{sent_src[i]},{sent_tgt[j]}')\n",
        "\n",
        "    "
      ],
      "metadata": {
        "id": "nsuKA1zZuYuH",
        "colab": {
          "base_uri": "https://localhost:8080/"
        },
        "outputId": "10aaa0a8-1877-4e75-aff8-4b7a01a344ba"
      },
      "execution_count": 9,
      "outputs": [
        {
          "output_type": "stream",
          "name": "stdout",
          "text": [
            "The,Akwụkwọ\n",
            "Determination,Akwụkwọ\n",
            "Determination,Sepụtemba\n",
            "envisaged,gaa\n",
            "envisaged,enyere\n",
            "the,gaa\n",
            "implementation,gaa\n",
            "the,tinyere\n",
            "USSD,USSD\n",
            "charges,site\n",
            "the,'mobile\n",
            "mobile,'mobile\n",
            "network,network\n",
            "operators,operators'\n",
            "(MNOs),(MNOs)\n",
            "September,n'afọ\n",
            "1,,n'afọ\n",
            "2019,,2019\n",
            "valid,Sepụtemba\n",
            "licensees,ahụ.\n"
          ]
        }
      ]
    }
  ]
}